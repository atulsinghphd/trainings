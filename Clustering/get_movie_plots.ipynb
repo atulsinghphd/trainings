{
 "cells": [
  {
   "cell_type": "markdown",
   "metadata": {},
   "source": [
    "## Get movie Plot\n",
    "\n",
    "This script uses the [OMDb API](http://www.omdbapi.com) to get plots for 100 Hollywood movies. The script uses [OMDb Python API](https://pypi.python.org/pypi/omdb) which is not installed with the default Anaconda installation. \n",
    "\n",
    "You can install it by using _*pip install omdb*_, if you have correct permissions to installation directory and command line proxy is configured."
   ]
  },
  {
   "cell_type": "code",
   "execution_count": 18,
   "metadata": {
    "collapsed": false
   },
   "outputs": [],
   "source": [
    "import omdb\n",
    "\n",
    "with open(\"./data/titles.txt\") as f:\n",
    "    top_100_hollywood_movie = f.readlines()"
   ]
  },
  {
   "cell_type": "code",
   "execution_count": 19,
   "metadata": {
    "collapsed": false
   },
   "outputs": [
    {
     "name": "stdout",
     "output_type": "stream",
     "text": [
      "[ The Godfather ]\n",
      "[ The Shawshank Redemption ]\n",
      "[ Schindler's List ]\n",
      "[ Raging Bull ]\n",
      "[ Casablanca ]\n",
      "[ One Flew Over the Cuckoo's Nest ]\n",
      "[ Gone with the Wind ]\n",
      "[ Citizen Kane ]\n",
      "[ The Wizard of Oz ]\n",
      "[ Titanic ]\n",
      "[ Lawrence of Arabia ]\n",
      "[ The Godfather: Part II ]\n",
      "[ Psycho ]\n",
      "[ Sunset Blvd. ]\n",
      "[ Vertigo ]\n",
      "[ On the Waterfront ]\n",
      "[ Forrest Gump ]\n",
      "[ The Sound of Music ]\n",
      "[ West Side Story ]\n",
      "[ Star Wars ]\n",
      "[ E.T. the Extra-Terrestrial ]\n",
      "[ 2001: A Space Odyssey ]\n",
      "[ The Silence of the Lambs ]\n",
      "[ Chinatown ]\n",
      "[ The Bridge on the River Kwai ]\n",
      "[ Singin' in the Rain ]\n",
      "[ It's a Wonderful Life ]\n",
      "[ Some Like It Hot ]\n",
      "[ 12 Angry Men ]\n",
      "[ Dr. Strangelove or: How I Learned to Stop Worrying and Love the Bomb ]\n",
      "[ Amadeus ]\n",
      "[ Apocalypse Now ]\n",
      "[ Gandhi ]\n",
      "[ The Lord of the Rings: The Return of the King ]\n",
      "[ Gladiator ]\n",
      "[ From Here to Eternity ]\n",
      "[ Saving Private Ryan ]\n",
      "[ Unforgiven ]\n",
      "[ Raiders of the Lost Ark ]\n",
      "[ Rocky ]\n",
      "[ A Streetcar Named Desire ]\n",
      "[ The Philadelphia Story ]\n",
      "[ To Kill a Mockingbird ]\n",
      "[ An American in Paris ]\n",
      "[ The Best Years of Our Lives ]\n",
      "[ My Fair Lady ]\n",
      "[ Ben-Hur ]\n",
      "[ Doctor Zhivago ]\n",
      "[ Patton ]\n",
      "[ Jaws ]\n",
      "[ Braveheart ]\n",
      "[ The Good, the Bad and the Ugly ]\n",
      "[ Butch Cassidy and the Sundance Kid ]\n",
      "[ The Treasure of the Sierra Madre ]\n",
      "[ The Apartment ]\n",
      "[ Platoon ]\n",
      "[ High Noon ]\n",
      "[ Dances with Wolves ]\n",
      "[ The Pianist ]\n",
      "[ Goodfellas ]\n",
      "[ The Exorcist ]\n",
      "[ The Deer Hunter ]\n",
      "[ All Quiet on the Western Front ]\n",
      "[ The French Connection ]\n",
      "[ City Lights ]\n",
      "[ The King's Speech ]\n",
      "[ It Happened One Night ]\n",
      "[ A Place in the Sun ]\n",
      "[ Midnight Cowboy ]\n",
      "[ Mr. Smith Goes to Washington ]\n",
      "[ Rain Man ]\n",
      "[ Annie Hall ]\n",
      "[ Out of Africa ]\n",
      "[ Good Will Hunting ]\n",
      "[ Terms of Endearment ]\n",
      "[ Tootsie ]\n",
      "[ Fargo ]\n",
      "[ Giant ]\n",
      "[ The Grapes of Wrath ]\n",
      "[ Shane ]\n",
      "[ The Green Mile ]\n",
      "[ Close Encounters of the Third Kind ]\n",
      "[ Network ]\n",
      "[ Nashville ]\n",
      "[ The Graduate ]\n",
      "[ American Graffiti ]\n",
      "[ Pulp Fiction ]\n",
      "[ The African Queen ]\n",
      "[ Stagecoach ]\n",
      "[ Mutiny on the Bounty ]\n",
      "[ The Maltese Falcon ]\n",
      "[ A Clockwork Orange ]\n",
      "[ Taxi Driver ]\n",
      "[ Wuthering Heights ]\n",
      "[ Double Indemnity ]\n",
      "[ Rebel Without a Cause ]\n",
      "[ Rear Window ]\n",
      "[ The Third Man ]\n",
      "[ North by Northwest ]\n",
      "[ Yankee Doodle Dandy ]\n"
     ]
    }
   ],
   "source": [
    "movie_titles = []\n",
    "movie_plots = []\n",
    "for title_name in top_100_hollywood_movie:\n",
    "    title_name = title_name.strip()\n",
    "    movie = None\n",
    "    try:\n",
    "        print(\"[\", title_name, \"]\" )\n",
    "        movie = omdb.get(title=title_name, fullplot=True)\n",
    "    except Exception as e:\n",
    "        print(\"Raised exception\", e)\n",
    "        continue\n",
    "    movie_titles.append(title_name)\n",
    "    movie_plots.append(movie.plot)\n",
    "    \n",
    "    "
   ]
  },
  {
   "cell_type": "code",
   "execution_count": 21,
   "metadata": {
    "collapsed": false
   },
   "outputs": [
    {
     "data": {
      "text/html": [
       "<div>\n",
       "<table border=\"1\" class=\"dataframe\">\n",
       "  <thead>\n",
       "    <tr style=\"text-align: right;\">\n",
       "      <th></th>\n",
       "      <th>plot</th>\n",
       "      <th>title</th>\n",
       "    </tr>\n",
       "  </thead>\n",
       "  <tbody>\n",
       "    <tr>\n",
       "      <th>0</th>\n",
       "      <td>The aging patriarch of an organized crime dyna...</td>\n",
       "      <td>The Godfather</td>\n",
       "    </tr>\n",
       "    <tr>\n",
       "      <th>1</th>\n",
       "      <td>Chronicles the experiences of a formerly succe...</td>\n",
       "      <td>The Shawshank Redemption</td>\n",
       "    </tr>\n",
       "    <tr>\n",
       "      <th>2</th>\n",
       "      <td>In German-occupied Poland during World War II,...</td>\n",
       "      <td>Schindler's List</td>\n",
       "    </tr>\n",
       "    <tr>\n",
       "      <th>3</th>\n",
       "      <td>When Jake LaMotta steps into a boxing ring and...</td>\n",
       "      <td>Raging Bull</td>\n",
       "    </tr>\n",
       "    <tr>\n",
       "      <th>4</th>\n",
       "      <td>In World War II Casablanca, Rick Blaine, exile...</td>\n",
       "      <td>Casablanca</td>\n",
       "    </tr>\n",
       "  </tbody>\n",
       "</table>\n",
       "</div>"
      ],
      "text/plain": [
       "                                                plot                     title\n",
       "0  The aging patriarch of an organized crime dyna...             The Godfather\n",
       "1  Chronicles the experiences of a formerly succe...  The Shawshank Redemption\n",
       "2  In German-occupied Poland during World War II,...          Schindler's List\n",
       "3  When Jake LaMotta steps into a boxing ring and...               Raging Bull\n",
       "4  In World War II Casablanca, Rick Blaine, exile...                Casablanca"
      ]
     },
     "execution_count": 21,
     "metadata": {},
     "output_type": "execute_result"
    }
   ],
   "source": [
    "import pandas as pd\n",
    "\n",
    "data = pd.DataFrame({'title': movie_titles, 'plot': movie_plots})\n",
    "data.head()"
   ]
  },
  {
   "cell_type": "code",
   "execution_count": 22,
   "metadata": {
    "collapsed": false
   },
   "outputs": [],
   "source": [
    "data.to_csv(\"./data/movie_data.csv\")"
   ]
  },
  {
   "cell_type": "markdown",
   "metadata": {},
   "source": [
    "## The End"
   ]
  },
  {
   "cell_type": "code",
   "execution_count": null,
   "metadata": {
    "collapsed": true
   },
   "outputs": [],
   "source": []
  }
 ],
 "metadata": {
  "kernelspec": {
   "display_name": "Python 3",
   "language": "python",
   "name": "python3"
  },
  "language_info": {
   "codemirror_mode": {
    "name": "ipython",
    "version": 3
   },
   "file_extension": ".py",
   "mimetype": "text/x-python",
   "name": "python",
   "nbconvert_exporter": "python",
   "pygments_lexer": "ipython3",
   "version": "3.6.0"
  }
 },
 "nbformat": 4,
 "nbformat_minor": 2
}
