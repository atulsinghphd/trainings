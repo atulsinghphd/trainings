{
 "cells": [
  {
   "cell_type": "markdown",
   "metadata": {},
   "source": [
    "<h1 align=\"center\"> Clustering for analytics</h1>"
   ]
  },
  {
   "cell_type": "markdown",
   "metadata": {},
   "source": [
    "---\n",
    "## Presenter : Atul Singh\n",
    "---\n",
    "\n",
    "* Joined Fidelity in Dec 2016 as a data scientist in innovations group of FIMT\n",
    "* PhD in Computer Science from Trinity College Dublin, Ireland\n",
    "* Pursuing Business Analytics and Intelligence (BAI) at IIM Bangalore\n",
    "* Prior Experience: Research Scientist at Xerox Research Centre India and Technical Manager IPSoft labs"
   ]
  },
  {
   "cell_type": "markdown",
   "metadata": {},
   "source": [
    "---\n",
    "### What to expect from this training?\n",
    "---\n",
    "\n",
    "* Understand what is clustering\n",
    "* KMeans and Hiearchical clustering algorithms \n",
    "* Hands on ability to apply KMean and Hiearchical clustering algorithm on data and analyze the results"
   ]
  },
  {
   "cell_type": "markdown",
   "metadata": {},
   "source": [
    "___\n",
    "## _**Business Analytics**_\n",
    "---\n",
    "\n",
    "> Business analytics (BA) refers to the tools, techniques and processes for continuous exploration and investigation of past data to gain insights and help in decision making and problem solving. \n",
    "\n",
    "> Business Analytics is an integration between business/problem context, technology and data science that assist data driven decision making/problem solving.\n",
    "\n",
    "\n",
    "_**Descriptive Analytics**_ | _**Predictive Analytics**_ | _**Prescriptve Analytics**_ \n",
    ":---------------------:|:--------------------:|:---------------------:\n",
    "What happened? | What will happen? | What action to take?"
   ]
  },
  {
   "cell_type": "markdown",
   "metadata": {},
   "source": [
    "---\n",
    "## _**Machine Learning**_\n",
    "---\n",
    "\n",
    "<img src=\"./images/AI.jpg\" />\n",
    "Machine learning investigates how computers can learn (or improve their performance) based on data. For example, a typical machine learning problem is to program a computer so that it can automatically recognize handwritten postal codes on mail after learning froma set of examples. \n",
    "\n",
    "<img src=\"./images/fruits.jpg\" width=\"50%\" height=\"50%\"/>\n",
    "\n",
    "The two prominent category of machine learning techniques are:\n",
    "\n",
    "* _**Supervised**_\n",
    "\n",
    "Labelled examples in _training data_ set are used to supervise the learning. In simple words:\n",
    "> You tell it f(x) = y for a thousand values and now it is able to tell what is f(p) for some new value p\n",
    "\n",
    "e.g., Decision Trees, Neural Networks, Support Vector Machines(SVM), Regression\n",
    "\n",
    "* _**Unsupervised**_\n",
    "\n",
    "Examples are not labelled. The algorithm discovers the classes and rules to assign new data to the classes. \n",
    "\n",
    "e.g., Clustering, Gaussian Mixture Models\n"
   ]
  },
  {
   "cell_type": "markdown",
   "metadata": {},
   "source": [
    "## What is Clustering ?\n",
    "\n",
    "<img src=\"./images/clustering.png\" />\n",
    "\n",
    "\n",
    "_**Takeaways**_\n",
    "\n",
    "1. Similarity is computed using object attributes (also referred as features)\n",
    "2. Similarity can be computed in different ways\n",
    "3. Selection of the attributes and similarity metric will affect the clustering\n",
    "4. Analyst discretion based on problem and domain affects the choice of number of clusters. "
   ]
  },
  {
   "cell_type": "markdown",
   "metadata": {},
   "source": [
    "---\n",
    "## _**Clustering**_\n",
    "---\n",
    "> _Cluster Analysis_ or _Clustering_ is the process of partitioning a set of data objects (or observations) into subsets. Each subset is a cluster, such that objects in a cluster are similar to one another, yet dissimilat to objects in other clusters. \n",
    "\n"
   ]
  },
  {
   "cell_type": "markdown",
   "metadata": {},
   "source": [
    "---\n",
    "## _**Similarity Metric**_\n",
    "---\n",
    "\n",
    "Given two vectors _*X*_ and _*y*_ with _*p*_ dimensions the distance between them is defined as follows:\n",
    "\n",
    "_**Eulidean Distance**_\n",
    "\n",
    "$$\\sqrt{(x_1 - y_1)^2 + (x_2 - y_2)^2  + \\ldots + (x_p - y_p)^2  }$$\n",
    "\n",
    "_**Cosine Similarity**_\n",
    "\n",
    "$$\\frac{\\sum\\limits_{k = 1}^{p} xy }{ \\sqrt{\\sum\\limits_{k = 1}^{p} x^2} \\sqrt{\\sum\\limits_{k = 1}^{p} y^2} }  $$\n",
    "\n",
    "_**Jaccard Distance**_\n",
    "\n",
    "$$1 - \\frac{| x \\cap y |}{| x \\cup y |}$$"
   ]
  },
  {
   "cell_type": "markdown",
   "metadata": {},
   "source": [
    "# Question \n",
    "\n",
    "The movie ratings given by 4 customers (C1, C2, C3, C4) on five movies (A,B,C,D,E) are given below. Use different similarity measure to find among C1, C2, and C3, which is closest to C4:\n",
    "\n",
    "| Customer/Movies | A | B | C | D | E |\n",
    "|-|-|-|-|-|-|\n",
    "| C1 | 4 | 1 | 3 | 2 | 4 |\n",
    "| C2 | 3 | 2 | 4 | 4 | 2 |\n",
    "| C3 | 3 | 3 | 4 | 4 | 4 |\n",
    "| C4 | 3 | 3 | 2 | 3 | 3 |\n",
    "\n"
   ]
  },
  {
   "cell_type": "markdown",
   "metadata": {},
   "source": [
    "---\n",
    "## Clustering Use Cases\n",
    "---\n",
    "<img src=\"./images/dilbert2.jpg\" />\n",
    "<img src=\"./images/dilbert1.jpg\" />\n",
    "\n",
    "* Customer segmentation based on demography, transaction history for custom marketing strategy\n",
    "* Stock segmentation based on financial performance variables such as returns (daily, weekly or monthly), volatility, beta and other characteristics such as industry and market capitalization. \n",
    "* Industry analysis Finding groups of similar firms based on growth rate, profitability, market size, product range, and presence in various international markets\n",
    "* Design of new set of sizes for uniforms\n",
    "* Cluster zip codes based on products sold"
   ]
  },
  {
   "cell_type": "markdown",
   "metadata": {
    "collapsed": true
   },
   "source": [
    "---\n",
    "## Clustering Algorithms\n",
    "---\n",
    "\n",
    "### KMeans \n",
    "Using a prespecified number of clusters the method assigns records to each cluster. Greedy approach which is computationally less intensive. \n",
    "\n",
    "### Hierarchial Clustering\n",
    "Predefined number of clusters is not required. Begins with n items as clusters and sequentially merges similar items till one single cluster remains.\n"
   ]
  },
  {
   "cell_type": "markdown",
   "metadata": {},
   "source": [
    "---\n",
    "## _**References**_\n",
    "---\n",
    "\n",
    "* [scikit-learn](http://scikit-learn.org/stable)\n",
    "* [An Introduction to Statistical Learning with Applications in R](http://www-bcf.usc.edu/~gareth/ISL/)\n"
   ]
  },
  {
   "cell_type": "markdown",
   "metadata": {
    "collapsed": true
   },
   "source": [
    "## The End"
   ]
  }
 ],
 "metadata": {
  "anaconda-cloud": {},
  "kernelspec": {
   "display_name": "Python 3",
   "language": "python",
   "name": "python3"
  },
  "language_info": {
   "codemirror_mode": {
    "name": "ipython",
    "version": 3
   },
   "file_extension": ".py",
   "mimetype": "text/x-python",
   "name": "python",
   "nbconvert_exporter": "python",
   "pygments_lexer": "ipython3",
   "version": "3.6.3"
  }
 },
 "nbformat": 4,
 "nbformat_minor": 1
}
