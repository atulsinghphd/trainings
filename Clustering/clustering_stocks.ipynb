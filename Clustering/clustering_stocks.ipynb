{
 "cells": [
  {
   "cell_type": "markdown",
   "metadata": {},
   "source": [
    "# Clustering Stocks\n",
    "\n",
    "Clustering groups objects based on similarity between the objects. The similarity is computed using object's features. \n",
    "\n",
    "In this example we take the open, high, low, close and volume of securities traded on a day to cluster the stocks. The code to get the stock quotes is available in another python notebook get_stock_quotes.ipynb in the same directory. \n",
    "\n",
    "\n",
    "### Ticker and company name dict"
   ]
  },
  {
   "cell_type": "code",
   "execution_count": 3,
   "metadata": {},
   "outputs": [],
   "source": [
    "# kraft symbol has now changed from KFT to MDLZ in yahoo\n",
    "symbol_dict = {\n",
    "    'TOT': 'Total',\n",
    "    'XOM': 'Exxon',\n",
    "    'CVX': 'Chevron',\n",
    "    'COP': 'ConocoPhillips',\n",
    "    'VLO': 'Valero Energy',\n",
    "    'MSFT': 'Microsoft',\n",
    "    'IBM': 'IBM',\n",
    "    'TWX': 'Time Warner',\n",
    "    'CMCSA': 'Comcast',\n",
    "    'CVC': 'Cablevision',\n",
    "    'YHOO': 'Yahoo',\n",
    "    'DELL': 'Dell',\n",
    "    'HPQ': 'HP',\n",
    "    'AMZN': 'Amazon',\n",
    "    'TM': 'Toyota',\n",
    "    'CAJ': 'Canon',\n",
    "    'MTU': 'Mitsubishi',\n",
    "    'SNE': 'Sony',\n",
    "    'F': 'Ford',\n",
    "    'HMC': 'Honda',\n",
    "    'NAV': 'Navistar',\n",
    "    'NOC': 'Northrop Grumman',\n",
    "    'BA': 'Boeing',\n",
    "    'KO': 'Coca Cola',\n",
    "    'MMM': '3M',\n",
    "    'MCD': 'Mc Donalds',\n",
    "    'PEP': 'Pepsi',\n",
    "    'MDLZ': 'Kraft Foods',\n",
    "    'K': 'Kellogg',\n",
    "    'UN': 'Unilever',\n",
    "    'MAR': 'Marriott',\n",
    "    'PG': 'Procter Gamble',\n",
    "    'CL': 'Colgate-Palmolive',\n",
    "    'GE': 'General Electrics',\n",
    "    'WFC': 'Wells Fargo',\n",
    "    'JPM': 'JPMorgan Chase',\n",
    "    'AIG': 'AIG',\n",
    "    'AXP': 'American express',\n",
    "    'BAC': 'Bank of America',\n",
    "    'GS': 'Goldman Sachs',\n",
    "    'AAPL': 'Apple',\n",
    "    'SAP': 'SAP',\n",
    "    'CSCO': 'Cisco',\n",
    "    'TXN': 'Texas instruments',\n",
    "    'XRX': 'Xerox',\n",
    "    'WMT': 'Wal-Mart',\n",
    "    'WBA': 'Walgreen',\n",
    "    'HD': 'Home Depot',\n",
    "    'GSK': 'GlaxoSmithKline',\n",
    "    'PFE': 'Pfizer',\n",
    "    'SNY': 'Sanofi-Aventis',\n",
    "    'NVS': 'Novartis',\n",
    "    'KMB': 'Kimberly-Clark',\n",
    "    'R': 'Ryder',\n",
    "    'GD': 'General Dynamics',\n",
    "    'RTN': 'Raytheon',\n",
    "    'CVS': 'CVS',\n",
    "    'CAT': 'Caterpillar',\n",
    "    'DD': 'DuPont de Nemours'}"
   ]
  },
  {
   "cell_type": "markdown",
   "metadata": {
    "collapsed": true
   },
   "source": [
    "### Read stock data"
   ]
  },
  {
   "cell_type": "code",
   "execution_count": 4,
   "metadata": {},
   "outputs": [
    {
     "data": {
      "text/html": [
       "<div>\n",
       "<table border=\"1\" class=\"dataframe\">\n",
       "  <thead>\n",
       "    <tr style=\"text-align: right;\">\n",
       "      <th></th>\n",
       "      <th>Date</th>\n",
       "      <th>minor</th>\n",
       "      <th>Open</th>\n",
       "      <th>High</th>\n",
       "      <th>Low</th>\n",
       "      <th>Close</th>\n",
       "      <th>Volume</th>\n",
       "    </tr>\n",
       "  </thead>\n",
       "  <tbody>\n",
       "    <tr>\n",
       "      <th>0</th>\n",
       "      <td>2017-01-03</td>\n",
       "      <td>AAPL</td>\n",
       "      <td>115.80</td>\n",
       "      <td>116.33</td>\n",
       "      <td>114.76</td>\n",
       "      <td>116.15</td>\n",
       "      <td>28781865.0</td>\n",
       "    </tr>\n",
       "    <tr>\n",
       "      <th>1</th>\n",
       "      <td>2017-01-03</td>\n",
       "      <td>AIG</td>\n",
       "      <td>65.95</td>\n",
       "      <td>66.01</td>\n",
       "      <td>64.69</td>\n",
       "      <td>65.12</td>\n",
       "      <td>7321916.0</td>\n",
       "    </tr>\n",
       "    <tr>\n",
       "      <th>2</th>\n",
       "      <td>2017-01-03</td>\n",
       "      <td>AMZN</td>\n",
       "      <td>757.92</td>\n",
       "      <td>758.76</td>\n",
       "      <td>747.70</td>\n",
       "      <td>753.67</td>\n",
       "      <td>3521066.0</td>\n",
       "    </tr>\n",
       "    <tr>\n",
       "      <th>3</th>\n",
       "      <td>2017-01-03</td>\n",
       "      <td>AXP</td>\n",
       "      <td>74.89</td>\n",
       "      <td>75.75</td>\n",
       "      <td>74.74</td>\n",
       "      <td>75.35</td>\n",
       "      <td>5853881.0</td>\n",
       "    </tr>\n",
       "    <tr>\n",
       "      <th>4</th>\n",
       "      <td>2017-01-03</td>\n",
       "      <td>BA</td>\n",
       "      <td>156.30</td>\n",
       "      <td>157.14</td>\n",
       "      <td>155.21</td>\n",
       "      <td>156.97</td>\n",
       "      <td>3426113.0</td>\n",
       "    </tr>\n",
       "  </tbody>\n",
       "</table>\n",
       "</div>"
      ],
      "text/plain": [
       "         Date minor    Open    High     Low   Close      Volume\n",
       "0  2017-01-03  AAPL  115.80  116.33  114.76  116.15  28781865.0\n",
       "1  2017-01-03   AIG   65.95   66.01   64.69   65.12   7321916.0\n",
       "2  2017-01-03  AMZN  757.92  758.76  747.70  753.67   3521066.0\n",
       "3  2017-01-03   AXP   74.89   75.75   74.74   75.35   5853881.0\n",
       "4  2017-01-03    BA  156.30  157.14  155.21  156.97   3426113.0"
      ]
     },
     "execution_count": 4,
     "metadata": {},
     "output_type": "execute_result"
    }
   ],
   "source": [
    "import pandas as pd\n",
    "\n",
    "quotes = pd.read_csv('./data/stock_quotes.csv')\n",
    "\n",
    "quotes.head()"
   ]
  },
  {
   "cell_type": "markdown",
   "metadata": {},
   "source": [
    "### Scale stock data "
   ]
  },
  {
   "cell_type": "code",
   "execution_count": 5,
   "metadata": {},
   "outputs": [
    {
     "data": {
      "text/html": [
       "<div>\n",
       "<table border=\"1\" class=\"dataframe\">\n",
       "  <thead>\n",
       "    <tr style=\"text-align: right;\">\n",
       "      <th></th>\n",
       "      <th>Open</th>\n",
       "      <th>High</th>\n",
       "      <th>Low</th>\n",
       "      <th>Close</th>\n",
       "      <th>Volume</th>\n",
       "    </tr>\n",
       "  </thead>\n",
       "  <tbody>\n",
       "    <tr>\n",
       "      <th>0</th>\n",
       "      <td>0.245604</td>\n",
       "      <td>0.244775</td>\n",
       "      <td>0.247256</td>\n",
       "      <td>0.250591</td>\n",
       "      <td>1.113594</td>\n",
       "    </tr>\n",
       "    <tr>\n",
       "      <th>1</th>\n",
       "      <td>-0.237814</td>\n",
       "      <td>-0.242211</td>\n",
       "      <td>-0.244607</td>\n",
       "      <td>-0.246691</td>\n",
       "      <td>-0.185114</td>\n",
       "    </tr>\n",
       "    <tr>\n",
       "      <th>2</th>\n",
       "      <td>6.472528</td>\n",
       "      <td>6.462074</td>\n",
       "      <td>6.464954</td>\n",
       "      <td>6.463159</td>\n",
       "      <td>-0.415133</td>\n",
       "    </tr>\n",
       "    <tr>\n",
       "      <th>3</th>\n",
       "      <td>-0.151119</td>\n",
       "      <td>-0.147950</td>\n",
       "      <td>-0.145881</td>\n",
       "      <td>-0.147001</td>\n",
       "      <td>-0.273956</td>\n",
       "    </tr>\n",
       "    <tr>\n",
       "      <th>4</th>\n",
       "      <td>0.638351</td>\n",
       "      <td>0.639725</td>\n",
       "      <td>0.644618</td>\n",
       "      <td>0.648378</td>\n",
       "      <td>-0.420879</td>\n",
       "    </tr>\n",
       "  </tbody>\n",
       "</table>\n",
       "</div>"
      ],
      "text/plain": [
       "       Open      High       Low     Close    Volume\n",
       "0  0.245604  0.244775  0.247256  0.250591  1.113594\n",
       "1 -0.237814 -0.242211 -0.244607 -0.246691 -0.185114\n",
       "2  6.472528  6.462074  6.464954  6.463159 -0.415133\n",
       "3 -0.151119 -0.147950 -0.145881 -0.147001 -0.273956\n",
       "4  0.638351  0.639725  0.644618  0.648378 -0.420879"
      ]
     },
     "execution_count": 5,
     "metadata": {},
     "output_type": "execute_result"
    }
   ],
   "source": [
    "from sklearn.preprocessing import StandardScaler\n",
    "\n",
    "## Leave out date and ticker name for clustering\n",
    "quotes_values = quotes[['Open', 'High', 'Low', 'Close', 'Volume']]\n",
    "scaler = StandardScaler()\n",
    "quotes_scaled = pd.DataFrame(scaler.fit_transform(quotes_values), columns=quotes_values.columns)\n",
    "quotes_scaled.head()"
   ]
  },
  {
   "cell_type": "code",
   "execution_count": 6,
   "metadata": {},
   "outputs": [
    {
     "data": {
      "text/plain": [
       "array([[<matplotlib.axes._subplots.AxesSubplot object at 0x10cfc9da0>,\n",
       "        <matplotlib.axes._subplots.AxesSubplot object at 0x1103aceb8>,\n",
       "        <matplotlib.axes._subplots.AxesSubplot object at 0x1103d8898>,\n",
       "        <matplotlib.axes._subplots.AxesSubplot object at 0x110474208>,\n",
       "        <matplotlib.axes._subplots.AxesSubplot object at 0x1104dbb00>],\n",
       "       [<matplotlib.axes._subplots.AxesSubplot object at 0x1104dbb38>,\n",
       "        <matplotlib.axes._subplots.AxesSubplot object at 0x11059e630>,\n",
       "        <matplotlib.axes._subplots.AxesSubplot object at 0x1105f3d30>,\n",
       "        <matplotlib.axes._subplots.AxesSubplot object at 0x110660278>,\n",
       "        <matplotlib.axes._subplots.AxesSubplot object at 0x1106ba438>],\n",
       "       [<matplotlib.axes._subplots.AxesSubplot object at 0x110720a58>,\n",
       "        <matplotlib.axes._subplots.AxesSubplot object at 0x11077b278>,\n",
       "        <matplotlib.axes._subplots.AxesSubplot object at 0x1107e3860>,\n",
       "        <matplotlib.axes._subplots.AxesSubplot object at 0x11083e0b8>,\n",
       "        <matplotlib.axes._subplots.AxesSubplot object at 0x1108a65c0>],\n",
       "       [<matplotlib.axes._subplots.AxesSubplot object at 0x1108c1be0>,\n",
       "        <matplotlib.axes._subplots.AxesSubplot object at 0x1109662e8>,\n",
       "        <matplotlib.axes._subplots.AxesSubplot object at 0x1109cc5f8>,\n",
       "        <matplotlib.axes._subplots.AxesSubplot object at 0x110a27048>,\n",
       "        <matplotlib.axes._subplots.AxesSubplot object at 0x110a91358>],\n",
       "       [<matplotlib.axes._subplots.AxesSubplot object at 0x110ae1e80>,\n",
       "        <matplotlib.axes._subplots.AxesSubplot object at 0x110b49dd8>,\n",
       "        <matplotlib.axes._subplots.AxesSubplot object at 0x110baa860>,\n",
       "        <matplotlib.axes._subplots.AxesSubplot object at 0x110c11ba8>,\n",
       "        <matplotlib.axes._subplots.AxesSubplot object at 0x110c6bf28>]], dtype=object)"
      ]
     },
     "execution_count": 6,
     "metadata": {},
     "output_type": "execute_result"
    },
    {
     "data": {
      "image/png": "[encoded data removed]",
      "text/plain": [
       "<matplotlib.figure.Figure at 0x10ab6c240>"
      ]
     },
     "metadata": {},
     "output_type": "display_data"
    }
   ],
   "source": [
    "%matplotlib inline\n",
    "from pandas.tools.plotting import scatter_matrix\n",
    "\n",
    "\n",
    "scatter_matrix(quotes_scaled, alpha = 0.2, diagonal='kde')"
   ]
  },
  {
   "cell_type": "markdown",
   "metadata": {},
   "source": [
    "### Cluster the data"
   ]
  },
  {
   "cell_type": "code",
   "execution_count": 7,
   "metadata": {
    "collapsed": true
   },
   "outputs": [],
   "source": [
    "from sklearn.cluster import KMeans\n",
    "\n",
    "model = KMeans(n_clusters = 5)\n",
    "model.fit(quotes_scaled)\n",
    "\n",
    "quotes['Cluster'] = model.labels_"
   ]
  },
  {
   "cell_type": "markdown",
   "metadata": {},
   "source": [
    "## Analyze the clusters\n",
    "\n",
    "Label the clusters using domain knowledge"
   ]
  },
  {
   "cell_type": "code",
   "execution_count": 8,
   "metadata": {},
   "outputs": [
    {
     "data": {
      "text/plain": [
       "array([[<matplotlib.axes._subplots.AxesSubplot object at 0x111ee4240>,\n",
       "        <matplotlib.axes._subplots.AxesSubplot object at 0x111f4a550>],\n",
       "       [<matplotlib.axes._subplots.AxesSubplot object at 0x111f54ef0>,\n",
       "        <matplotlib.axes._subplots.AxesSubplot object at 0x112008e10>],\n",
       "       [<matplotlib.axes._subplots.AxesSubplot object at 0x11207b0b8>,\n",
       "        <matplotlib.axes._subplots.AxesSubplot object at 0x11207b0f0>]], dtype=object)"
      ]
     },
     "execution_count": 8,
     "metadata": {},
     "output_type": "execute_result"
    },
    {
     "data": {
      "image/png": "[encoded data removed]",
      "text/plain": [
       "<matplotlib.figure.Figure at 0x110c80f28>"
      ]
     },
     "metadata": {},
     "output_type": "display_data"
    }
   ],
   "source": [
    "quotes.boxplot(by='Cluster', column=['Open', 'High', 'Low', 'Close', 'Volume'])"
   ]
  },
  {
   "cell_type": "code",
   "execution_count": 12,
   "metadata": {},
   "outputs": [
    {
     "name": "stdout",
     "output_type": "stream",
     "text": [
      "Cluster 1: AIG, American express, Canon, Caterpillar, Colgate-Palmolive, ConocoPhillips, CVS, DuPont de Nemours, GlaxoSmithKline, Honda, Kellogg, Marriott, Kraft Foods, Mitsubishi, Navistar, Novartis, Pepsi, Procter Gamble, Ryder, SAP, Sony, Sanofi-Aventis, Total, Time Warner, Texas instruments, Unilever, Valero Energy, Walgreen, Wal-Mart, Exxon, Yahoo\n",
      "Cluster 2: Amazon\n",
      "Cluster 3: Bank of America, Xerox\n",
      "Cluster 4: Boeing, Chevron, General Dynamics, Goldman Sachs, Home Depot, IBM, Kimberly-Clark, Mc Donalds, 3M, Northrop Grumman, Raytheon, Toyota\n",
      "Cluster 5: Apple, Comcast, Cisco, Ford, General Electrics, HP, JPMorgan Chase, Coca Cola, Microsoft, Pfizer, Wells Fargo\n"
     ]
    }
   ],
   "source": [
    "import numpy as np\n",
    "\n",
    "tickers = quotes['minor'].values\n",
    "\n",
    "names = []\n",
    "for ticker in tickers:\n",
    "    names.append(symbol_dict[ticker])\n",
    "    \n",
    "names = np.array(names)\n",
    "labels = model.labels_\n",
    "n_labels = labels.max()\n",
    "\n",
    "for i in range(n_labels + 1):\n",
    "    print('Cluster %i: %s' % ((i + 1), ', '.join(names[labels == i])))"
   ]
  },
  {
   "cell_type": "markdown",
   "metadata": {},
   "source": [
    "## The End"
   ]
  }
 ],
 "metadata": {
  "kernelspec": {
   "display_name": "Python 3",
   "language": "python",
   "name": "python3"
  },
  "language_info": {
   "codemirror_mode": {
    "name": "ipython",
    "version": 3
   },
   "file_extension": ".py",
   "mimetype": "text/x-python",
   "name": "python",
   "nbconvert_exporter": "python",
   "pygments_lexer": "ipython3",
   "version": "3.6.3"
  }
 },
 "nbformat": 4,
 "nbformat_minor": 2
}
