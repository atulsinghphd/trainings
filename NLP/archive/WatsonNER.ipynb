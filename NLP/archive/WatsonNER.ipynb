{
 "cells": [
  {
   "cell_type": "code",
   "execution_count": 1,
   "metadata": {
    "collapsed": true
   },
   "outputs": [],
   "source": [
    "import sys\n",
    "import os\n",
    "sys.path.append(os.path.join(os.getcwd(),'..'))\n",
    "import watson_developer_cloud\n",
    "import watson_developer_cloud.natural_language_understanding.features.v1 as features"
   ]
  },
  {
   "cell_type": "code",
   "execution_count": 2,
   "metadata": {
    "collapsed": true
   },
   "outputs": [],
   "source": [
    "nlu = watson_developer_cloud.NaturalLanguageUnderstandingV1(version='2017-08-29',\n",
    "                                                            username='d98d91ea-98db-4ace-a6ac-5a42fef1ee1c',\n",
    "                                                            password='Kwdrnz12mOf3')"
   ]
  },
  {
   "cell_type": "code",
   "execution_count": 7,
   "metadata": {
    "collapsed": false
   },
   "outputs": [],
   "source": [
    "res = nlu.analyze(text='this is my experimental text.  Bruce Banner is the Hulk and Bruce Wayne is BATMAN! Superman fears not Banner, but Wayne.',\n",
    "            features=[features.Entities()])"
   ]
  },
  {
   "cell_type": "code",
   "execution_count": 8,
   "metadata": {
    "collapsed": false
   },
   "outputs": [
    {
     "data": {
      "text/plain": [
       "[{'count': 3, 'relevance': 0.915411, 'text': 'Bruce Banner', 'type': 'Person'},\n",
       " {'count': 1, 'relevance': 0.296395, 'text': 'Wayne', 'type': 'Person'}]"
      ]
     },
     "execution_count": 8,
     "metadata": {},
     "output_type": "execute_result"
    }
   ],
   "source": [
    "res['entities']"
   ]
  },
  {
   "cell_type": "code",
   "execution_count": 34,
   "metadata": {
    "collapsed": false
   },
   "outputs": [],
   "source": [
    "def getEntities(sent):\n",
    "    parsed = nlu.analyze(text=sent, features=[features.Entities()])\n",
    "    entList = []\n",
    "    for ent in parsed['entities']:\n",
    "        text = ent['text']\n",
    "        typ = ent['type']\n",
    "        entList.append((text, typ))\n",
    "    return entList\n",
    "                       "
   ]
  },
  {
   "cell_type": "code",
   "execution_count": 35,
   "metadata": {
    "collapsed": false
   },
   "outputs": [
    {
     "data": {
      "text/plain": [
       "[('Abhishek Pandey', 'Person'), ('Fidelity Funds', 'Company')]"
      ]
     },
     "execution_count": 35,
     "metadata": {},
     "output_type": "execute_result"
    }
   ],
   "source": [
    "sent = 'Abhishek Pandey is a dark horse. He is a manager or Fidelity Funds.'\n",
    "getEntities(sent)"
   ]
  }
 ],
 "metadata": {
  "kernelspec": {
   "display_name": "Python [default]",
   "language": "python",
   "name": "python3"
  },
  "language_info": {
   "codemirror_mode": {
    "name": "ipython",
    "version": 3
   },
   "file_extension": ".py",
   "mimetype": "text/x-python",
   "name": "python",
   "nbconvert_exporter": "python",
   "pygments_lexer": "ipython3",
   "version": "3.6.0"
  }
 },
 "nbformat": 4,
 "nbformat_minor": 2
}
