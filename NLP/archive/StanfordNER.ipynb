{
 "cells": [
  {
   "cell_type": "code",
   "execution_count": 14,
   "metadata": {
    "collapsed": false
   },
   "outputs": [],
   "source": [
    "import nltk.tag.stanford as st\n"
   ]
  },
  {
   "cell_type": "code",
   "execution_count": 15,
   "metadata": {
    "collapsed": false
   },
   "outputs": [],
   "source": [
    "## Change stanford_home to point to your stanford nlp download\n",
    "stanford_home = '/Users/a602563/Downloads/stanford-ner-2014-06-16/'\n",
    "ner_tagger = st.StanfordNERTagger( stanford_home + 'classifiers/english.all.3class.distsim.crf.ser.gz'\n",
    "                    , stanford_home + 'stanford-ner.jar')"
   ]
  },
  {
   "cell_type": "code",
   "execution_count": 16,
   "metadata": {
    "collapsed": true
   },
   "outputs": [],
   "source": [
    "from nltk import word_tokenize\n",
    "def getEntities(sentence):\n",
    "    sentence_tokens = word_tokenize(sentence)\n",
    "    sentence_with_ner_tags = ner_tagger.tag(sentence_tokens)\n",
    "    parsed_word_tag = []\n",
    "    for (word, tag) in sentence_with_ner_tags:\n",
    "        if tag != 'O':\n",
    "            parsed_word_tag.append((word, tag))\n",
    "    return parsed_word_tag\n",
    "            "
   ]
  },
  {
   "cell_type": "code",
   "execution_count": 22,
   "metadata": {
    "collapsed": false
   },
   "outputs": [
    {
     "name": "stdout",
     "output_type": "stream",
     "text": [
      "[('Atul', 'PERSON'), ('Singh', 'PERSON')]\n"
     ]
    }
   ],
   "source": [
    "print(getEntities('My name is Atul Singh.'))"
   ]
  },
  {
   "cell_type": "code",
   "execution_count": null,
   "metadata": {
    "collapsed": true
   },
   "outputs": [],
   "source": []
  }
 ],
 "metadata": {
  "kernelspec": {
   "display_name": "Python [default]",
   "language": "python",
   "name": "python3"
  },
  "language_info": {
   "codemirror_mode": {
    "name": "ipython",
    "version": 3
   },
   "file_extension": ".py",
   "mimetype": "text/x-python",
   "name": "python",
   "nbconvert_exporter": "python",
   "pygments_lexer": "ipython3",
   "version": "3.6.0"
  }
 },
 "nbformat": 4,
 "nbformat_minor": 2
}
