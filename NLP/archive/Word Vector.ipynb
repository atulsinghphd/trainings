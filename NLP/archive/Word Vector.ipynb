{
 "cells": [
  {
   "cell_type": "code",
   "execution_count": 2,
   "metadata": {
    "collapsed": false
   },
   "outputs": [
    {
     "data": {
      "text/html": [
       "<div>\n",
       "<table border=\"1\" class=\"dataframe\">\n",
       "  <thead>\n",
       "    <tr style=\"text-align: right;\">\n",
       "      <th></th>\n",
       "      <th>id</th>\n",
       "      <th>plot</th>\n",
       "      <th>title</th>\n",
       "    </tr>\n",
       "  </thead>\n",
       "  <tbody>\n",
       "    <tr>\n",
       "      <th>0</th>\n",
       "      <td>0</td>\n",
       "      <td>The aging patriarch of an organized crime dyna...</td>\n",
       "      <td>The Godfather</td>\n",
       "    </tr>\n",
       "    <tr>\n",
       "      <th>1</th>\n",
       "      <td>1</td>\n",
       "      <td>Chronicles the experiences of a formerly succe...</td>\n",
       "      <td>The Shawshank Redemption</td>\n",
       "    </tr>\n",
       "    <tr>\n",
       "      <th>2</th>\n",
       "      <td>2</td>\n",
       "      <td>In German-occupied Poland during World War II,...</td>\n",
       "      <td>Schindler's List</td>\n",
       "    </tr>\n",
       "    <tr>\n",
       "      <th>3</th>\n",
       "      <td>3</td>\n",
       "      <td>When Jake LaMotta steps into a boxing ring and...</td>\n",
       "      <td>Raging Bull</td>\n",
       "    </tr>\n",
       "    <tr>\n",
       "      <th>4</th>\n",
       "      <td>4</td>\n",
       "      <td>In World War II Casablanca, Rick Blaine, exile...</td>\n",
       "      <td>Casablanca</td>\n",
       "    </tr>\n",
       "  </tbody>\n",
       "</table>\n",
       "</div>"
      ],
      "text/plain": [
       "   id                                               plot  \\\n",
       "0   0  The aging patriarch of an organized crime dyna...   \n",
       "1   1  Chronicles the experiences of a formerly succe...   \n",
       "2   2  In German-occupied Poland during World War II,...   \n",
       "3   3  When Jake LaMotta steps into a boxing ring and...   \n",
       "4   4  In World War II Casablanca, Rick Blaine, exile...   \n",
       "\n",
       "                      title  \n",
       "0             The Godfather  \n",
       "1  The Shawshank Redemption  \n",
       "2          Schindler's List  \n",
       "3               Raging Bull  \n",
       "4                Casablanca  "
      ]
     },
     "execution_count": 2,
     "metadata": {},
     "output_type": "execute_result"
    }
   ],
   "source": [
    "import pandas as pd\n",
    "\n",
    "data = pd.read_csv('./movie_data.csv')\n",
    "\n",
    "data.head()"
   ]
  },
  {
   "cell_type": "code",
   "execution_count": 6,
   "metadata": {
    "collapsed": false
   },
   "outputs": [],
   "source": [
    "sentences = data['plot'].values"
   ]
  },
  {
   "cell_type": "code",
   "execution_count": 18,
   "metadata": {
    "collapsed": false
   },
   "outputs": [],
   "source": [
    "import gensim\n",
    "model = gensim.models.Word2Vec(sentences)"
   ]
  },
  {
   "cell_type": "code",
   "execution_count": 19,
   "metadata": {
    "collapsed": false
   },
   "outputs": [
    {
     "data": {
      "text/plain": [
       "{' ': <gensim.models.keyedvectors.Vocab at 0x1134f6518>,\n",
       " '\"': <gensim.models.keyedvectors.Vocab at 0x1134fe630>,\n",
       " \"'\": <gensim.models.keyedvectors.Vocab at 0x1134f6f28>,\n",
       " '(': <gensim.models.keyedvectors.Vocab at 0x1134fe6a0>,\n",
       " ')': <gensim.models.keyedvectors.Vocab at 0x1134fe6d8>,\n",
       " ',': <gensim.models.keyedvectors.Vocab at 0x1134f6f98>,\n",
       " '-': <gensim.models.keyedvectors.Vocab at 0x1134f6fd0>,\n",
       " '.': <gensim.models.keyedvectors.Vocab at 0x1134f6d68>,\n",
       " '0': <gensim.models.keyedvectors.Vocab at 0x1134fe4e0>,\n",
       " '1': <gensim.models.keyedvectors.Vocab at 0x1134fe4a8>,\n",
       " '2': <gensim.models.keyedvectors.Vocab at 0x1134fe550>,\n",
       " '3': <gensim.models.keyedvectors.Vocab at 0x1134fe668>,\n",
       " '4': <gensim.models.keyedvectors.Vocab at 0x1134fe470>,\n",
       " '8': <gensim.models.keyedvectors.Vocab at 0x1134fe438>,\n",
       " '9': <gensim.models.keyedvectors.Vocab at 0x1134fe518>,\n",
       " 'A': <gensim.models.keyedvectors.Vocab at 0x1134fe2e8>,\n",
       " 'B': <gensim.models.keyedvectors.Vocab at 0x1134fe278>,\n",
       " 'C': <gensim.models.keyedvectors.Vocab at 0x1134f6da0>,\n",
       " 'D': <gensim.models.keyedvectors.Vocab at 0x1134fe3c8>,\n",
       " 'E': <gensim.models.keyedvectors.Vocab at 0x1134fe5c0>,\n",
       " 'F': <gensim.models.keyedvectors.Vocab at 0x1134fe390>,\n",
       " 'G': <gensim.models.keyedvectors.Vocab at 0x1134fe0b8>,\n",
       " 'H': <gensim.models.keyedvectors.Vocab at 0x1134fe588>,\n",
       " 'I': <gensim.models.keyedvectors.Vocab at 0x1134fe080>,\n",
       " 'J': <gensim.models.keyedvectors.Vocab at 0x1134fe198>,\n",
       " 'K': <gensim.models.keyedvectors.Vocab at 0x1134fe400>,\n",
       " 'L': <gensim.models.keyedvectors.Vocab at 0x1134fe208>,\n",
       " 'M': <gensim.models.keyedvectors.Vocab at 0x1134fe240>,\n",
       " 'N': <gensim.models.keyedvectors.Vocab at 0x1134fe1d0>,\n",
       " 'O': <gensim.models.keyedvectors.Vocab at 0x1134fe160>,\n",
       " 'P': <gensim.models.keyedvectors.Vocab at 0x1134fe0f0>,\n",
       " 'R': <gensim.models.keyedvectors.Vocab at 0x1134fe048>,\n",
       " 'S': <gensim.models.keyedvectors.Vocab at 0x1134f6eb8>,\n",
       " 'T': <gensim.models.keyedvectors.Vocab at 0x1134f6358>,\n",
       " 'U': <gensim.models.keyedvectors.Vocab at 0x1134fe358>,\n",
       " 'V': <gensim.models.keyedvectors.Vocab at 0x1134fe320>,\n",
       " 'W': <gensim.models.keyedvectors.Vocab at 0x1134fe128>,\n",
       " 'Y': <gensim.models.keyedvectors.Vocab at 0x1134fe5f8>,\n",
       " 'a': <gensim.models.keyedvectors.Vocab at 0x1134f6828>,\n",
       " 'b': <gensim.models.keyedvectors.Vocab at 0x1134f6e10>,\n",
       " 'c': <gensim.models.keyedvectors.Vocab at 0x1134f67b8>,\n",
       " 'd': <gensim.models.keyedvectors.Vocab at 0x1134f6c18>,\n",
       " 'e': <gensim.models.keyedvectors.Vocab at 0x1134f6860>,\n",
       " 'f': <gensim.models.keyedvectors.Vocab at 0x1134f6ba8>,\n",
       " 'g': <gensim.models.keyedvectors.Vocab at 0x1134f6a58>,\n",
       " 'h': <gensim.models.keyedvectors.Vocab at 0x1134f6a90>,\n",
       " 'i': <gensim.models.keyedvectors.Vocab at 0x1134f6a20>,\n",
       " 'j': <gensim.models.keyedvectors.Vocab at 0x1134f6e80>,\n",
       " 'k': <gensim.models.keyedvectors.Vocab at 0x1134f6e48>,\n",
       " 'l': <gensim.models.keyedvectors.Vocab at 0x1134f6cf8>,\n",
       " 'm': <gensim.models.keyedvectors.Vocab at 0x1134f6c50>,\n",
       " 'n': <gensim.models.keyedvectors.Vocab at 0x1134f69e8>,\n",
       " 'o': <gensim.models.keyedvectors.Vocab at 0x1134f6b70>,\n",
       " 'p': <gensim.models.keyedvectors.Vocab at 0x1134f6630>,\n",
       " 'q': <gensim.models.keyedvectors.Vocab at 0x1134f6f60>,\n",
       " 'r': <gensim.models.keyedvectors.Vocab at 0x1134f69b0>,\n",
       " 's': <gensim.models.keyedvectors.Vocab at 0x1134f6cc0>,\n",
       " 't': <gensim.models.keyedvectors.Vocab at 0x1134f6710>,\n",
       " 'u': <gensim.models.keyedvectors.Vocab at 0x1134f6d30>,\n",
       " 'v': <gensim.models.keyedvectors.Vocab at 0x1134fe2b0>,\n",
       " 'w': <gensim.models.keyedvectors.Vocab at 0x1134f6ef0>,\n",
       " 'x': <gensim.models.keyedvectors.Vocab at 0x1134f6dd8>,\n",
       " 'y': <gensim.models.keyedvectors.Vocab at 0x1134f6c88>,\n",
       " 'z': <gensim.models.keyedvectors.Vocab at 0x1134f6be0>}"
      ]
     },
     "execution_count": 19,
     "metadata": {},
     "output_type": "execute_result"
    }
   ],
   "source": [
    "model.wv.vocab"
   ]
  }
 ],
 "metadata": {
  "anaconda-cloud": {},
  "kernelspec": {
   "display_name": "Python [default]",
   "language": "python",
   "name": "python3"
  },
  "language_info": {
   "codemirror_mode": {
    "name": "ipython",
    "version": 3
   },
   "file_extension": ".py",
   "mimetype": "text/x-python",
   "name": "python",
   "nbconvert_exporter": "python",
   "pygments_lexer": "ipython3",
   "version": "3.5.2"
  }
 },
 "nbformat": 4,
 "nbformat_minor": 2
}
