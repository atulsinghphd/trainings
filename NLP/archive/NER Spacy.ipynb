{
 "cells": [
  {
   "cell_type": "markdown",
   "metadata": {},
   "source": [
    "# NER"
   ]
  },
  {
   "cell_type": "code",
   "execution_count": 4,
   "metadata": {
    "collapsed": true
   },
   "outputs": [],
   "source": [
    "import spacy"
   ]
  },
  {
   "cell_type": "code",
   "execution_count": 5,
   "metadata": {
    "collapsed": true
   },
   "outputs": [],
   "source": [
    "nlp = spacy.load('en')\n",
    "doc = nlp(u'My name is Atul Singh')"
   ]
  },
  {
   "cell_type": "code",
   "execution_count": 3,
   "metadata": {
    "collapsed": true
   },
   "outputs": [],
   "source": [
    "def getEntities(sent):\n",
    "    doc = nlp(sent)\n",
    "    result = []\n",
    "    for ent in doc.ents:\n",
    "        result.append((ent.label_, ent.text))\n",
    "    return result"
   ]
  },
  {
   "cell_type": "code",
   "execution_count": 8,
   "metadata": {
    "collapsed": false
   },
   "outputs": [
    {
     "name": "stdout",
     "output_type": "stream",
     "text": [
      "[]\n"
     ]
    }
   ],
   "source": [
    "print(getEntities('Alex has a black horse.'))"
   ]
  },
  {
   "cell_type": "markdown",
   "metadata": {},
   "source": [
    "# Information Extraction"
   ]
  },
  {
   "cell_type": "code",
   "execution_count": 25,
   "metadata": {
    "collapsed": false
   },
   "outputs": [
    {
     "name": "stdout",
     "output_type": "stream",
     "text": [
      "[one, women, men, child]\n",
      "document.sentence: 0.0, subject: men, action: ran, numbers: 2\n",
      "document.sentence: 0.0, subject: child, action: ran, numbers: 1\n",
      "[people]\n",
      "document.sentence: 0.1, subject: people, action: walking, numbers: 3\n",
      "[person]\n",
      "document.sentence: 1.0, subject: person, action: walking, numbers: One\n",
      "[]\n",
      "[]\n"
     ]
    }
   ],
   "source": [
    "text = [\"On Tuesday, one women ran on the street while 2 men ran and 1 child ran on the sidewalk. Also, there were 3 people walking.\",\n",
    "        \"One person was walking yesterday, but there were 2 women running as well as 4 men and 3 kids running.\", \n",
    "        \"The other day, there were three women running and also 6 men and 5 kids running on the sidewalk. Also, there were 2 people walking in the park.\"]\n",
    "#text = ['Atul Singh is a Senior Project Manager at Fidelity Investments.', 'Fidelity investments is a finance firm.']\n",
    "nlp = spacy.load('en')\n",
    "docs = [nlp(t) for t in text]\n",
    "for i, doc in enumerate(docs):\n",
    "    for j, sent in enumerate(doc.sents):\n",
    "        subjects = [w for w in sent if w.dep_ == 'nsubj']\n",
    "        print(subjects)\n",
    "        for subject in subjects:\n",
    "            numbers = [w for w in subject.lefts if w.dep_ == 'nummod']\n",
    "            if len(numbers) == 1:\n",
    "                print('document.sentence: {}.{}, subject: {}, action: {}, numbers: {}'.format(i, j, subject.text, subject.head.text, numbers[0].text))"
   ]
  }
 ],
 "metadata": {
  "anaconda-cloud": {},
  "kernelspec": {
   "display_name": "Python [default]",
   "language": "python",
   "name": "python3"
  },
  "language_info": {
   "codemirror_mode": {
    "name": "ipython",
    "version": 3
   },
   "file_extension": ".py",
   "mimetype": "text/x-python",
   "name": "python",
   "nbconvert_exporter": "python",
   "pygments_lexer": "ipython3",
   "version": "3.5.2"
  }
 },
 "nbformat": 4,
 "nbformat_minor": 2
}
