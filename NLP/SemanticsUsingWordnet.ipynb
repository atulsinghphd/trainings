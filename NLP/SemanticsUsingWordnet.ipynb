{
 "cells": [
  {
   "cell_type": "markdown",
   "metadata": {},
   "source": [
    " <div style=\"background-color: #99CD4E; text-align:center; vertical-align: middle; padding:40px 0;\"> \n",
    "  <h1 style=\"color: white;\"> *Incorporating semantics of words* </h1>.\n",
    " </div>\n",
    " \n",
    " # References\n",
    " \n",
    "[NLTK Wordnet Interface documentation](http://www.nltk.org/howto/wordnet.html)\n",
    " \n",
    " # Why is this required ?\n",
    " \n",
    " - Vector space representation does not incorporates the semantic similarity of words"
   ]
  },
  {
   "cell_type": "markdown",
   "metadata": {},
   "source": [
    "<div style=\"background-color: #99CD4E; padding:5px 0;\"> \n",
    "  <h2 style=\"color: white;\"> *Meaning, Synonym and Hyponymy* </h1>\n",
    " </div>\n",
    "\n",
    "- *Meaning* the idea that is represented by a word, phrase, etc\n",
    "- *Synonym* is a word or phrase that means exactly or nearly the same as another word or phrase in the same language. A set of synonym is synset \n",
    "- *Hyponymy* shows the relationship between a generic term (hypernym, eg. colour) and a specific instance of it (hyponym, eg., red). "
   ]
  },
  {
   "cell_type": "markdown",
   "metadata": {},
   "source": [
    "# Find meaning, synonymy and hyponymy \n",
    "\n",
    ">WordNet is a lexical database for the English language.[1] It groups English words into sets of synonyms called synsets, provides short definitions and usage examples, and records a number of relations among these synonym sets or their members. WordNet can thus be seen as a combination of dictionary and thesaurus. \n",
    "\n",
    "* Synonyms are grouped together in something called Synset\n",
    "* A synset contains lemmas, which are the base form of a word\n",
    "* There are hierarchical links between synsets (ISA relations or hypernym/hyponym relations)\n",
    "* Several other properties such as antonyms or related words are included for each lemma in the synset\n",
    "\n",
    "\n",
    "\n",
    "# Meaning"
   ]
  },
  {
   "cell_type": "code",
   "execution_count": 2,
   "metadata": {
    "collapsed": false
   },
   "outputs": [
    {
     "name": "stdout",
     "output_type": "stream",
     "text": [
      "any of numerous agile ruminants related to sheep but having a beard and straight horns\n"
     ]
    }
   ],
   "source": [
    "from nltk.corpus import wordnet as wn\n",
    "syns = wn.synsets(\"goat\")\n",
    "print(syns[0].definition())"
   ]
  },
  {
   "cell_type": "markdown",
   "metadata": {},
   "source": [
    "# Synonymy"
   ]
  },
  {
   "cell_type": "code",
   "execution_count": 14,
   "metadata": {
    "collapsed": false
   },
   "outputs": [
    {
     "name": "stdout",
     "output_type": "stream",
     "text": [
      "benefit\n",
      "n  [ good ]\n",
      "moral excellence or admirableness\n",
      "n  [ good, goodness ]\n",
      "that which is pleasing or valuable or useful\n",
      "n  [ good, goodness ]\n",
      "articles of commerce\n",
      "n  [ commodity, trade_good, good ]\n",
      "having desirable or positive qualities especially those suitable for a thing specified\n",
      "a  [ good ]\n",
      "having the normally expected amount\n",
      "s  [ full, good ]\n",
      "morally admirable\n",
      "a  [ good ]\n",
      "deserving of esteem and respect\n",
      "s  [ estimable, good, honorable, respectable ]\n",
      "promoting or enhancing well-being\n",
      "s  [ beneficial, good ]\n",
      "agreeable or pleasing\n",
      "s  [ good ]\n",
      "of moral excellence\n",
      "s  [ good, just, upright ]\n",
      "having or showing knowledge and skill and aptitude\n",
      "s  [ adept, expert, good, practiced, proficient, skillful, skilful ]\n",
      "thorough\n",
      "s  [ good ]\n",
      "with or in a close or intimate relationship\n",
      "s  [ dear, good, near ]\n",
      "financially sound\n",
      "s  [ dependable, good, safe, secure ]\n",
      "most suitable or right for a particular purpose\n",
      "s  [ good, right, ripe ]\n",
      "resulting favorably\n",
      "s  [ good, well ]\n",
      "exerting force or influence\n",
      "s  [ effective, good, in_effect, in_force ]\n",
      "capable of pleasing\n",
      "s  [ good ]\n",
      "appealing to the mind\n",
      "s  [ good, serious ]\n",
      "in excellent physical condition\n",
      "s  [ good, sound ]\n",
      "tending to promote physical well-being; beneficial to health\n",
      "s  [ good, salutary ]\n",
      "not forged\n",
      "s  [ good, honest ]\n",
      "not left to spoil\n",
      "s  [ good, undecomposed, unspoiled, unspoilt ]\n",
      "generally admired\n",
      "s  [ good ]\n",
      "(often used as a combining form) in a good or proper or satisfactory manner or to a high standard (`good' is a nonstandard dialectal variant for `well')\n",
      "r  [ well, good ]\n",
      "completely and absolutely (`good' is sometimes used informally for `thoroughly')\n",
      "r  [ thoroughly, soundly, good ]\n"
     ]
    }
   ],
   "source": [
    "for synset in wn.synsets('good'):\n",
    "    print(synset.definition())\n",
    "    print(synset.pos(), \" [\", \", \".join([l.name() for l in synset.lemmas()]), \"]\" )"
   ]
  },
  {
   "cell_type": "markdown",
   "metadata": {},
   "source": [
    "# Hyponymy"
   ]
  },
  {
   "cell_type": "code",
   "execution_count": 20,
   "metadata": {
    "collapsed": false
   },
   "outputs": [
    {
     "data": {
      "text/plain": [
       "[Synset('procyonid.n.01'),\n",
       " Synset('carnivore.n.01'),\n",
       " Synset('placental.n.01'),\n",
       " Synset('mammal.n.01'),\n",
       " Synset('vertebrate.n.01'),\n",
       " Synset('chordate.n.01'),\n",
       " Synset('animal.n.01'),\n",
       " Synset('organism.n.01'),\n",
       " Synset('living_thing.n.01'),\n",
       " Synset('whole.n.02'),\n",
       " Synset('object.n.01'),\n",
       " Synset('physical_entity.n.01'),\n",
       " Synset('entity.n.01')]"
      ]
     },
     "execution_count": 20,
     "metadata": {},
     "output_type": "execute_result"
    }
   ],
   "source": [
    "panda = wn.synset(\"panda.n.01\")\n",
    "hyper = lambda s: s.hypernyms()\n",
    "list(panda.closure(hyper))"
   ]
  },
  {
   "cell_type": "markdown",
   "metadata": {},
   "source": [
    "# Similarity between words\n",
    "\n",
    "Using wordnet we can find similarity between words\n",
    "\n",
    "> synset1.path_similarity(synset2): Return a score denoting how similar two word senses are, based on the shortest path that connects the senses in the is-a (hypernym/hypnoym) taxonomy. The score is in the range 0 to 1. "
   ]
  },
  {
   "cell_type": "code",
   "execution_count": 23,
   "metadata": {
    "collapsed": false
   },
   "outputs": [],
   "source": [
    "man = wn.synset('man.n.01')\n",
    "women = wn.synset('woman.n.01')\n",
    "king = wn.synset('king.n.01')\n",
    "queen = wn.synset('queen.n.01')"
   ]
  },
  {
   "cell_type": "code",
   "execution_count": 27,
   "metadata": {
    "collapsed": false
   },
   "outputs": [],
   "source": [
    "my_items = [man, women, king, queen]"
   ]
  },
  {
   "cell_type": "code",
   "execution_count": 28,
   "metadata": {
    "collapsed": false
   },
   "outputs": [],
   "source": [
    "list_of_pairs = [(p1, p2) for p1 in my_items for p2 in my_items if p1 != p2]"
   ]
  },
  {
   "cell_type": "code",
   "execution_count": 32,
   "metadata": {
    "collapsed": false
   },
   "outputs": [
    {
     "name": "stdout",
     "output_type": "stream",
     "text": [
      "Synset('man.n.01')   Synset('woman.n.01')\n",
      "0.3333333333333333\n",
      "Synset('man.n.01')   Synset('king.n.01')\n",
      "0.16666666666666666\n",
      "Synset('man.n.01')   Synset('queen.n.01')\n",
      "0.1111111111111111\n",
      "Synset('woman.n.01')   Synset('man.n.01')\n",
      "0.3333333333333333\n",
      "Synset('woman.n.01')   Synset('king.n.01')\n",
      "0.16666666666666666\n",
      "Synset('woman.n.01')   Synset('queen.n.01')\n",
      "0.1111111111111111\n",
      "Synset('king.n.01')   Synset('man.n.01')\n",
      "0.16666666666666666\n",
      "Synset('king.n.01')   Synset('woman.n.01')\n",
      "0.16666666666666666\n",
      "Synset('king.n.01')   Synset('queen.n.01')\n",
      "0.1\n",
      "Synset('queen.n.01')   Synset('man.n.01')\n",
      "0.1111111111111111\n",
      "Synset('queen.n.01')   Synset('woman.n.01')\n",
      "0.1111111111111111\n",
      "Synset('queen.n.01')   Synset('king.n.01')\n",
      "0.1\n"
     ]
    }
   ],
   "source": [
    "for (a, b) in list_of_pairs:\n",
    "    print(a, ' ', b)\n",
    "    print(a.path_similarity(b))"
   ]
  },
  {
   "cell_type": "markdown",
   "metadata": {},
   "source": [
    " <div style=\"background-color: #99CD4E; text-align:center; vertical-align: middle; padding:40px 0;\"> \n",
    "  <h1 style=\"color: white;\"> *The End* </h1>.\n",
    " </div>"
   ]
  }
 ],
 "metadata": {
  "anaconda-cloud": {},
  "kernelspec": {
   "display_name": "Python [default]",
   "language": "python",
   "name": "python3"
  },
  "language_info": {
   "codemirror_mode": {
    "name": "ipython",
    "version": 3
   },
   "file_extension": ".py",
   "mimetype": "text/x-python",
   "name": "python",
   "nbconvert_exporter": "python",
   "pygments_lexer": "ipython3",
   "version": "3.5.2"
  }
 },
 "nbformat": 4,
 "nbformat_minor": 2
}
