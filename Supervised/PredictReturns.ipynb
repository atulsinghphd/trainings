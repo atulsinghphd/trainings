{
 "cells": [
  {
   "cell_type": "markdown",
   "metadata": {},
   "source": [
    "# Regression: Predict the 5-year return for a mutual fund\n",
    "\n",
    "## Variables\n",
    "\n",
    "1. **Fund Type** The type of the fund, labeled DE (Domestic Equity), IE (International Equity) and Fixed Income (FI)\n",
    "\n",
    "2. **Net Asset Value (USD)** The closing price per share on Dec 2017\n",
    "3. ** 5-Year Average Return (percentage)** The averga eanuual return for the fund over the five years\n",
    "4. **Expense Ratior (percentage)** Percentage of assests declared each fiscal year for fund expenses\n",
    "5. **Morning star rank** The risk adjusted rating for each fund. Morningstar ranks go froma a low of 1-star to a high of 5-star"
   ]
  },
  {
   "cell_type": "markdown",
   "metadata": {},
   "source": [
    "## Read data "
   ]
  },
  {
   "cell_type": "code",
   "execution_count": 1,
   "metadata": {
    "collapsed": false
   },
   "outputs": [
    {
     "data": {
      "text/plain": [
       "['Data', 'Sheet2', 'Sheet3']"
      ]
     },
     "execution_count": 1,
     "metadata": {},
     "output_type": "execute_result"
    }
   ],
   "source": [
    "import pandas as pd\n",
    "\n",
    "xlsx = pd.ExcelFile('./MutualFunds.xlsx')\n",
    "\n",
    "xlsx.sheet_names\n"
   ]
  },
  {
   "cell_type": "code",
   "execution_count": 2,
   "metadata": {
    "collapsed": true
   },
   "outputs": [],
   "source": [
    "data = xlsx.parse('Data')"
   ]
  },
  {
   "cell_type": "code",
   "execution_count": 3,
   "metadata": {
    "collapsed": false
   },
   "outputs": [
    {
     "data": {
      "text/html": [
       "<div>\n",
       "<table border=\"1\" class=\"dataframe\">\n",
       "  <thead>\n",
       "    <tr style=\"text-align: right;\">\n",
       "      <th></th>\n",
       "      <th>Fund Name</th>\n",
       "      <th>Fund Type</th>\n",
       "      <th>Net Asset Value ($)</th>\n",
       "      <th>5 Year Average Return (%)</th>\n",
       "      <th>Expense Ratio (%)</th>\n",
       "      <th>Morningstar Rank</th>\n",
       "    </tr>\n",
       "  </thead>\n",
       "  <tbody>\n",
       "    <tr>\n",
       "      <th>0</th>\n",
       "      <td>Amer Cent Inc &amp; Growth Inv</td>\n",
       "      <td>DE</td>\n",
       "      <td>28.88</td>\n",
       "      <td>12.39</td>\n",
       "      <td>0.67</td>\n",
       "      <td>2-Star</td>\n",
       "    </tr>\n",
       "    <tr>\n",
       "      <th>1</th>\n",
       "      <td>American Century Intl. Disc</td>\n",
       "      <td>IE</td>\n",
       "      <td>14.37</td>\n",
       "      <td>30.53</td>\n",
       "      <td>1.41</td>\n",
       "      <td>3-Star</td>\n",
       "    </tr>\n",
       "    <tr>\n",
       "      <th>2</th>\n",
       "      <td>American Century Tax-Free Bond</td>\n",
       "      <td>FI</td>\n",
       "      <td>10.73</td>\n",
       "      <td>3.34</td>\n",
       "      <td>0.49</td>\n",
       "      <td>4-Star</td>\n",
       "    </tr>\n",
       "    <tr>\n",
       "      <th>3</th>\n",
       "      <td>American Century Ultra</td>\n",
       "      <td>DE</td>\n",
       "      <td>24.94</td>\n",
       "      <td>10.88</td>\n",
       "      <td>0.99</td>\n",
       "      <td>3-Star</td>\n",
       "    </tr>\n",
       "    <tr>\n",
       "      <th>4</th>\n",
       "      <td>Ariel</td>\n",
       "      <td>DE</td>\n",
       "      <td>46.39</td>\n",
       "      <td>11.32</td>\n",
       "      <td>1.03</td>\n",
       "      <td>2-Star</td>\n",
       "    </tr>\n",
       "  </tbody>\n",
       "</table>\n",
       "</div>"
      ],
      "text/plain": [
       "                        Fund Name Fund Type  Net Asset Value ($)  \\\n",
       "0      Amer Cent Inc & Growth Inv        DE                28.88   \n",
       "1     American Century Intl. Disc        IE                14.37   \n",
       "2  American Century Tax-Free Bond        FI                10.73   \n",
       "3          American Century Ultra        DE                24.94   \n",
       "4                           Ariel        DE                46.39   \n",
       "\n",
       "   5 Year Average Return (%)  Expense Ratio (%) Morningstar Rank  \n",
       "0                      12.39               0.67           2-Star  \n",
       "1                      30.53               1.41           3-Star  \n",
       "2                       3.34               0.49           4-Star  \n",
       "3                      10.88               0.99           3-Star  \n",
       "4                      11.32               1.03           2-Star  "
      ]
     },
     "execution_count": 3,
     "metadata": {},
     "output_type": "execute_result"
    }
   ],
   "source": [
    "data.head()"
   ]
  },
  {
   "cell_type": "markdown",
   "metadata": {},
   "source": [
    "## Data exploration"
   ]
  },
  {
   "cell_type": "code",
   "execution_count": 4,
   "metadata": {
    "collapsed": false
   },
   "outputs": [
    {
     "data": {
      "text/plain": [
       "Fund Name                    0\n",
       "Fund Type                    0\n",
       "Net Asset Value ($)          0\n",
       "5 Year Average Return (%)    0\n",
       "Expense Ratio (%)            0\n",
       "Morningstar Rank             0\n",
       "dtype: int64"
      ]
     },
     "execution_count": 4,
     "metadata": {},
     "output_type": "execute_result"
    }
   ],
   "source": [
    "data.isnull().sum()\n",
    "## data,dropna()"
   ]
  },
  {
   "cell_type": "code",
   "execution_count": 5,
   "metadata": {
    "collapsed": false
   },
   "outputs": [
    {
     "data": {
      "text/html": [
       "<div>\n",
       "<table border=\"1\" class=\"dataframe\">\n",
       "  <thead>\n",
       "    <tr style=\"text-align: right;\">\n",
       "      <th></th>\n",
       "      <th>Fund Name</th>\n",
       "      <th>Fund Type</th>\n",
       "      <th>Net Asset Value ($)</th>\n",
       "      <th>5 Year Average Return (%)</th>\n",
       "      <th>Expense Ratio (%)</th>\n",
       "      <th>Morningstar Rank</th>\n",
       "    </tr>\n",
       "  </thead>\n",
       "  <tbody>\n",
       "    <tr>\n",
       "      <th>count</th>\n",
       "      <td>45</td>\n",
       "      <td>45</td>\n",
       "      <td>45.000000</td>\n",
       "      <td>45.000000</td>\n",
       "      <td>45.000000</td>\n",
       "      <td>45</td>\n",
       "    </tr>\n",
       "    <tr>\n",
       "      <th>unique</th>\n",
       "      <td>45</td>\n",
       "      <td>3</td>\n",
       "      <td>NaN</td>\n",
       "      <td>NaN</td>\n",
       "      <td>NaN</td>\n",
       "      <td>4</td>\n",
       "    </tr>\n",
       "    <tr>\n",
       "      <th>top</th>\n",
       "      <td>American Century Ultra</td>\n",
       "      <td>DE</td>\n",
       "      <td>NaN</td>\n",
       "      <td>NaN</td>\n",
       "      <td>NaN</td>\n",
       "      <td>3-Star</td>\n",
       "    </tr>\n",
       "    <tr>\n",
       "      <th>freq</th>\n",
       "      <td>1</td>\n",
       "      <td>27</td>\n",
       "      <td>NaN</td>\n",
       "      <td>NaN</td>\n",
       "      <td>NaN</td>\n",
       "      <td>18</td>\n",
       "    </tr>\n",
       "    <tr>\n",
       "      <th>mean</th>\n",
       "      <td>NaN</td>\n",
       "      <td>NaN</td>\n",
       "      <td>28.008222</td>\n",
       "      <td>15.043111</td>\n",
       "      <td>0.903111</td>\n",
       "      <td>NaN</td>\n",
       "    </tr>\n",
       "    <tr>\n",
       "      <th>std</th>\n",
       "      <td>NaN</td>\n",
       "      <td>NaN</td>\n",
       "      <td>15.050313</td>\n",
       "      <td>8.807185</td>\n",
       "      <td>0.357217</td>\n",
       "      <td>NaN</td>\n",
       "    </tr>\n",
       "    <tr>\n",
       "      <th>min</th>\n",
       "      <td>NaN</td>\n",
       "      <td>NaN</td>\n",
       "      <td>8.600000</td>\n",
       "      <td>2.370000</td>\n",
       "      <td>0.160000</td>\n",
       "      <td>NaN</td>\n",
       "    </tr>\n",
       "    <tr>\n",
       "      <th>25%</th>\n",
       "      <td>NaN</td>\n",
       "      <td>NaN</td>\n",
       "      <td>15.290000</td>\n",
       "      <td>11.320000</td>\n",
       "      <td>0.620000</td>\n",
       "      <td>NaN</td>\n",
       "    </tr>\n",
       "    <tr>\n",
       "      <th>50%</th>\n",
       "      <td>NaN</td>\n",
       "      <td>NaN</td>\n",
       "      <td>24.940000</td>\n",
       "      <td>15.310000</td>\n",
       "      <td>1.000000</td>\n",
       "      <td>NaN</td>\n",
       "    </tr>\n",
       "    <tr>\n",
       "      <th>75%</th>\n",
       "      <td>NaN</td>\n",
       "      <td>NaN</td>\n",
       "      <td>36.580000</td>\n",
       "      <td>17.250000</td>\n",
       "      <td>1.200000</td>\n",
       "      <td>NaN</td>\n",
       "    </tr>\n",
       "    <tr>\n",
       "      <th>max</th>\n",
       "      <td>NaN</td>\n",
       "      <td>NaN</td>\n",
       "      <td>73.110000</td>\n",
       "      <td>51.100000</td>\n",
       "      <td>1.410000</td>\n",
       "      <td>NaN</td>\n",
       "    </tr>\n",
       "  </tbody>\n",
       "</table>\n",
       "</div>"
      ],
      "text/plain": [
       "                     Fund Name Fund Type  Net Asset Value ($)  \\\n",
       "count                       45        45            45.000000   \n",
       "unique                      45         3                  NaN   \n",
       "top     American Century Ultra        DE                  NaN   \n",
       "freq                         1        27                  NaN   \n",
       "mean                       NaN       NaN            28.008222   \n",
       "std                        NaN       NaN            15.050313   \n",
       "min                        NaN       NaN             8.600000   \n",
       "25%                        NaN       NaN            15.290000   \n",
       "50%                        NaN       NaN            24.940000   \n",
       "75%                        NaN       NaN            36.580000   \n",
       "max                        NaN       NaN            73.110000   \n",
       "\n",
       "        5 Year Average Return (%)  Expense Ratio (%) Morningstar Rank  \n",
       "count                   45.000000          45.000000               45  \n",
       "unique                        NaN                NaN                4  \n",
       "top                           NaN                NaN           3-Star  \n",
       "freq                          NaN                NaN               18  \n",
       "mean                    15.043111           0.903111              NaN  \n",
       "std                      8.807185           0.357217              NaN  \n",
       "min                      2.370000           0.160000              NaN  \n",
       "25%                     11.320000           0.620000              NaN  \n",
       "50%                     15.310000           1.000000              NaN  \n",
       "75%                     17.250000           1.200000              NaN  \n",
       "max                     51.100000           1.410000              NaN  "
      ]
     },
     "execution_count": 5,
     "metadata": {},
     "output_type": "execute_result"
    }
   ],
   "source": [
    "data.describe(include='all')"
   ]
  },
  {
   "cell_type": "code",
   "execution_count": 6,
   "metadata": {
    "collapsed": false
   },
   "outputs": [],
   "source": [
    "import seaborn as sns\n",
    "import matplotlib.pyplot as plt\n",
    "%matplotlib inline\n",
    "#plt.rcParams['figure.figsize'] = [12, 12]"
   ]
  },
  {
   "cell_type": "code",
   "execution_count": 7,
   "metadata": {
    "collapsed": false
   },
   "outputs": [
    {
     "data": {
      "text/plain": [
       "<seaborn.axisgrid.PairGrid at 0x119c49b00>"
      ]
     },
     "execution_count": 7,
     "metadata": {},
     "output_type": "execute_result"
    },
    {
     "data": {
      "image/png": "[encoded data removed]",
      "text/plain": [
       "<matplotlib.figure.Figure at 0x119c49a90>"
      ]
     },
     "metadata": {},
     "output_type": "display_data"
    }
   ],
   "source": [
    "sns.pairplot(data)"
   ]
  },
  {
   "cell_type": "code",
   "execution_count": 8,
   "metadata": {
    "collapsed": false
   },
   "outputs": [
    {
     "data": {
      "text/plain": [
       "<seaborn.axisgrid.JointGrid at 0x11c9f0550>"
      ]
     },
     "execution_count": 8,
     "metadata": {},
     "output_type": "execute_result"
    },
    {
     "data": {
      "image/png": "[encoded data removed]",
      "text/plain": [
       "<matplotlib.figure.Figure at 0x11c9f0ac8>"
      ]
     },
     "metadata": {},
     "output_type": "display_data"
    }
   ],
   "source": [
    "sns.jointplot(data['Net Asset Value ($)'], data['5 Year Average Return (%)'])"
   ]
  },
  {
   "cell_type": "code",
   "execution_count": 9,
   "metadata": {
    "collapsed": false
   },
   "outputs": [
    {
     "data": {
      "text/plain": [
       "<seaborn.axisgrid.JointGrid at 0x11cbcb940>"
      ]
     },
     "execution_count": 9,
     "metadata": {},
     "output_type": "execute_result"
    },
    {
     "data": {
      "image/png": "[encoded data removed]",
      "text/plain": [
       "<matplotlib.figure.Figure at 0x11cd41e48>"
      ]
     },
     "metadata": {},
     "output_type": "display_data"
    }
   ],
   "source": [
    "sns.jointplot(data['Expense Ratio (%)'], data['5 Year Average Return (%)'])"
   ]
  },
  {
   "cell_type": "markdown",
   "metadata": {},
   "source": [
    "## Encoding of categorical variables"
   ]
  },
  {
   "cell_type": "code",
   "execution_count": 10,
   "metadata": {
    "collapsed": false
   },
   "outputs": [],
   "source": [
    "def create_dummies( df, colname ):\n",
    "    col_dummies = pd.get_dummies(df[colname], prefix=colname)\n",
    "    col_dummies.drop(col_dummies.columns[0], axis=1, inplace=True)\n",
    "    df = pd.concat([df, col_dummies], axis=1)\n",
    "    df.drop( colname, axis = 1, inplace = True )\n",
    "    return df"
   ]
  },
  {
   "cell_type": "code",
   "execution_count": 11,
   "metadata": {
    "collapsed": false
   },
   "outputs": [
    {
     "data": {
      "text/plain": [
       "Index(['Fund Name', 'Fund Type', 'Net Asset Value ($)',\n",
       "       '5 Year Average Return (%)', 'Expense Ratio (%)', 'Morningstar Rank'],\n",
       "      dtype='object')"
      ]
     },
     "execution_count": 11,
     "metadata": {},
     "output_type": "execute_result"
    }
   ],
   "source": [
    "data.columns"
   ]
  },
  {
   "cell_type": "code",
   "execution_count": 12,
   "metadata": {
    "collapsed": true
   },
   "outputs": [],
   "source": [
    "categorical_features = ['Fund Type', 'Morningstar Rank']"
   ]
  },
  {
   "cell_type": "code",
   "execution_count": 13,
   "metadata": {
    "collapsed": true
   },
   "outputs": [],
   "source": [
    "data_tmp = data"
   ]
  },
  {
   "cell_type": "code",
   "execution_count": 14,
   "metadata": {
    "collapsed": false
   },
   "outputs": [],
   "source": [
    "for c_feature in categorical_features:\n",
    "  data = create_dummies( data, c_feature )"
   ]
  },
  {
   "cell_type": "code",
   "execution_count": 15,
   "metadata": {
    "collapsed": false
   },
   "outputs": [
    {
     "data": {
      "text/html": [
       "<div>\n",
       "<table border=\"1\" class=\"dataframe\">\n",
       "  <thead>\n",
       "    <tr style=\"text-align: right;\">\n",
       "      <th></th>\n",
       "      <th>Fund Name</th>\n",
       "      <th>Net Asset Value ($)</th>\n",
       "      <th>5 Year Average Return (%)</th>\n",
       "      <th>Expense Ratio (%)</th>\n",
       "      <th>Fund Type_FI</th>\n",
       "      <th>Fund Type_IE</th>\n",
       "      <th>Morningstar Rank_3-Star</th>\n",
       "      <th>Morningstar Rank_4-Star</th>\n",
       "      <th>Morningstar Rank_5-Star</th>\n",
       "    </tr>\n",
       "  </thead>\n",
       "  <tbody>\n",
       "    <tr>\n",
       "      <th>0</th>\n",
       "      <td>Amer Cent Inc &amp; Growth Inv</td>\n",
       "      <td>28.88</td>\n",
       "      <td>12.39</td>\n",
       "      <td>0.67</td>\n",
       "      <td>0</td>\n",
       "      <td>0</td>\n",
       "      <td>0</td>\n",
       "      <td>0</td>\n",
       "      <td>0</td>\n",
       "    </tr>\n",
       "    <tr>\n",
       "      <th>1</th>\n",
       "      <td>American Century Intl. Disc</td>\n",
       "      <td>14.37</td>\n",
       "      <td>30.53</td>\n",
       "      <td>1.41</td>\n",
       "      <td>0</td>\n",
       "      <td>1</td>\n",
       "      <td>1</td>\n",
       "      <td>0</td>\n",
       "      <td>0</td>\n",
       "    </tr>\n",
       "    <tr>\n",
       "      <th>2</th>\n",
       "      <td>American Century Tax-Free Bond</td>\n",
       "      <td>10.73</td>\n",
       "      <td>3.34</td>\n",
       "      <td>0.49</td>\n",
       "      <td>1</td>\n",
       "      <td>0</td>\n",
       "      <td>0</td>\n",
       "      <td>1</td>\n",
       "      <td>0</td>\n",
       "    </tr>\n",
       "    <tr>\n",
       "      <th>3</th>\n",
       "      <td>American Century Ultra</td>\n",
       "      <td>24.94</td>\n",
       "      <td>10.88</td>\n",
       "      <td>0.99</td>\n",
       "      <td>0</td>\n",
       "      <td>0</td>\n",
       "      <td>1</td>\n",
       "      <td>0</td>\n",
       "      <td>0</td>\n",
       "    </tr>\n",
       "    <tr>\n",
       "      <th>4</th>\n",
       "      <td>Ariel</td>\n",
       "      <td>46.39</td>\n",
       "      <td>11.32</td>\n",
       "      <td>1.03</td>\n",
       "      <td>0</td>\n",
       "      <td>0</td>\n",
       "      <td>0</td>\n",
       "      <td>0</td>\n",
       "      <td>0</td>\n",
       "    </tr>\n",
       "  </tbody>\n",
       "</table>\n",
       "</div>"
      ],
      "text/plain": [
       "                        Fund Name  Net Asset Value ($)  \\\n",
       "0      Amer Cent Inc & Growth Inv                28.88   \n",
       "1     American Century Intl. Disc                14.37   \n",
       "2  American Century Tax-Free Bond                10.73   \n",
       "3          American Century Ultra                24.94   \n",
       "4                           Ariel                46.39   \n",
       "\n",
       "   5 Year Average Return (%)  Expense Ratio (%)  Fund Type_FI  Fund Type_IE  \\\n",
       "0                      12.39               0.67             0             0   \n",
       "1                      30.53               1.41             0             1   \n",
       "2                       3.34               0.49             1             0   \n",
       "3                      10.88               0.99             0             0   \n",
       "4                      11.32               1.03             0             0   \n",
       "\n",
       "   Morningstar Rank_3-Star  Morningstar Rank_4-Star  Morningstar Rank_5-Star  \n",
       "0                        0                        0                        0  \n",
       "1                        1                        0                        0  \n",
       "2                        0                        1                        0  \n",
       "3                        1                        0                        0  \n",
       "4                        0                        0                        0  "
      ]
     },
     "execution_count": 15,
     "metadata": {},
     "output_type": "execute_result"
    }
   ],
   "source": [
    "data.head()"
   ]
  },
  {
   "cell_type": "code",
   "execution_count": 16,
   "metadata": {
    "collapsed": false
   },
   "outputs": [
    {
     "data": {
      "text/html": [
       "<div>\n",
       "<table border=\"1\" class=\"dataframe\">\n",
       "  <thead>\n",
       "    <tr style=\"text-align: right;\">\n",
       "      <th></th>\n",
       "      <th>Net Asset Value ($)</th>\n",
       "      <th>5 Year Average Return (%)</th>\n",
       "      <th>Expense Ratio (%)</th>\n",
       "      <th>Fund Type_FI</th>\n",
       "      <th>Fund Type_IE</th>\n",
       "      <th>Morningstar Rank_3-Star</th>\n",
       "      <th>Morningstar Rank_4-Star</th>\n",
       "      <th>Morningstar Rank_5-Star</th>\n",
       "    </tr>\n",
       "  </thead>\n",
       "  <tbody>\n",
       "    <tr>\n",
       "      <th>Net Asset Value ($)</th>\n",
       "      <td>1.000000</td>\n",
       "      <td>0.415647</td>\n",
       "      <td>0.325044</td>\n",
       "      <td>-0.593788</td>\n",
       "      <td>0.189712</td>\n",
       "      <td>-0.409555</td>\n",
       "      <td>0.220770</td>\n",
       "      <td>0.024348</td>\n",
       "    </tr>\n",
       "    <tr>\n",
       "      <th>5 Year Average Return (%)</th>\n",
       "      <td>0.415647</td>\n",
       "      <td>1.000000</td>\n",
       "      <td>0.558395</td>\n",
       "      <td>-0.622006</td>\n",
       "      <td>0.616594</td>\n",
       "      <td>-0.036075</td>\n",
       "      <td>0.206740</td>\n",
       "      <td>-0.110957</td>\n",
       "    </tr>\n",
       "    <tr>\n",
       "      <th>Expense Ratio (%)</th>\n",
       "      <td>0.325044</td>\n",
       "      <td>0.558395</td>\n",
       "      <td>1.000000</td>\n",
       "      <td>-0.566128</td>\n",
       "      <td>0.201594</td>\n",
       "      <td>-0.027739</td>\n",
       "      <td>0.137906</td>\n",
       "      <td>-0.134091</td>\n",
       "    </tr>\n",
       "    <tr>\n",
       "      <th>Fund Type_FI</th>\n",
       "      <td>-0.593788</td>\n",
       "      <td>-0.622006</td>\n",
       "      <td>-0.566128</td>\n",
       "      <td>1.000000</td>\n",
       "      <td>-0.248548</td>\n",
       "      <td>0.109109</td>\n",
       "      <td>-0.151186</td>\n",
       "      <td>0.170877</td>\n",
       "    </tr>\n",
       "    <tr>\n",
       "      <th>Fund Type_IE</th>\n",
       "      <td>0.189712</td>\n",
       "      <td>0.616594</td>\n",
       "      <td>0.201594</td>\n",
       "      <td>-0.248548</td>\n",
       "      <td>1.000000</td>\n",
       "      <td>0.094916</td>\n",
       "      <td>-0.082199</td>\n",
       "      <td>-0.064189</td>\n",
       "    </tr>\n",
       "    <tr>\n",
       "      <th>Morningstar Rank_3-Star</th>\n",
       "      <td>-0.409555</td>\n",
       "      <td>-0.036075</td>\n",
       "      <td>-0.027739</td>\n",
       "      <td>0.109109</td>\n",
       "      <td>0.094916</td>\n",
       "      <td>1.000000</td>\n",
       "      <td>-0.577350</td>\n",
       "      <td>-0.379663</td>\n",
       "    </tr>\n",
       "    <tr>\n",
       "      <th>Morningstar Rank_4-Star</th>\n",
       "      <td>0.220770</td>\n",
       "      <td>0.206740</td>\n",
       "      <td>0.137906</td>\n",
       "      <td>-0.151186</td>\n",
       "      <td>-0.082199</td>\n",
       "      <td>-0.577350</td>\n",
       "      <td>1.000000</td>\n",
       "      <td>-0.328798</td>\n",
       "    </tr>\n",
       "    <tr>\n",
       "      <th>Morningstar Rank_5-Star</th>\n",
       "      <td>0.024348</td>\n",
       "      <td>-0.110957</td>\n",
       "      <td>-0.134091</td>\n",
       "      <td>0.170877</td>\n",
       "      <td>-0.064189</td>\n",
       "      <td>-0.379663</td>\n",
       "      <td>-0.328798</td>\n",
       "      <td>1.000000</td>\n",
       "    </tr>\n",
       "  </tbody>\n",
       "</table>\n",
       "</div>"
      ],
      "text/plain": [
       "                           Net Asset Value ($)  5 Year Average Return (%)  \\\n",
       "Net Asset Value ($)                   1.000000                   0.415647   \n",
       "5 Year Average Return (%)             0.415647                   1.000000   \n",
       "Expense Ratio (%)                     0.325044                   0.558395   \n",
       "Fund Type_FI                         -0.593788                  -0.622006   \n",
       "Fund Type_IE                          0.189712                   0.616594   \n",
       "Morningstar Rank_3-Star              -0.409555                  -0.036075   \n",
       "Morningstar Rank_4-Star               0.220770                   0.206740   \n",
       "Morningstar Rank_5-Star               0.024348                  -0.110957   \n",
       "\n",
       "                           Expense Ratio (%)  Fund Type_FI  Fund Type_IE  \\\n",
       "Net Asset Value ($)                 0.325044     -0.593788      0.189712   \n",
       "5 Year Average Return (%)           0.558395     -0.622006      0.616594   \n",
       "Expense Ratio (%)                   1.000000     -0.566128      0.201594   \n",
       "Fund Type_FI                       -0.566128      1.000000     -0.248548   \n",
       "Fund Type_IE                        0.201594     -0.248548      1.000000   \n",
       "Morningstar Rank_3-Star            -0.027739      0.109109      0.094916   \n",
       "Morningstar Rank_4-Star             0.137906     -0.151186     -0.082199   \n",
       "Morningstar Rank_5-Star            -0.134091      0.170877     -0.064189   \n",
       "\n",
       "                           Morningstar Rank_3-Star  Morningstar Rank_4-Star  \\\n",
       "Net Asset Value ($)                      -0.409555                 0.220770   \n",
       "5 Year Average Return (%)                -0.036075                 0.206740   \n",
       "Expense Ratio (%)                        -0.027739                 0.137906   \n",
       "Fund Type_FI                              0.109109                -0.151186   \n",
       "Fund Type_IE                              0.094916                -0.082199   \n",
       "Morningstar Rank_3-Star                   1.000000                -0.577350   \n",
       "Morningstar Rank_4-Star                  -0.577350                 1.000000   \n",
       "Morningstar Rank_5-Star                  -0.379663                -0.328798   \n",
       "\n",
       "                           Morningstar Rank_5-Star  \n",
       "Net Asset Value ($)                       0.024348  \n",
       "5 Year Average Return (%)                -0.110957  \n",
       "Expense Ratio (%)                        -0.134091  \n",
       "Fund Type_FI                              0.170877  \n",
       "Fund Type_IE                             -0.064189  \n",
       "Morningstar Rank_3-Star                  -0.379663  \n",
       "Morningstar Rank_4-Star                  -0.328798  \n",
       "Morningstar Rank_5-Star                   1.000000  "
      ]
     },
     "execution_count": 16,
     "metadata": {},
     "output_type": "execute_result"
    }
   ],
   "source": [
    "#sns.heatmap(data.corr())\n",
    "data.corr()"
   ]
  },
  {
   "cell_type": "markdown",
   "metadata": {},
   "source": [
    "# Rename Column Names for regression"
   ]
  },
  {
   "cell_type": "code",
   "execution_count": 17,
   "metadata": {
    "collapsed": false
   },
   "outputs": [
    {
     "data": {
      "text/plain": [
       "Index(['Fund Name', 'Net Asset Value ($)', '5 Year Average Return (%)',\n",
       "       'Expense Ratio (%)', 'Fund Type_FI', 'Fund Type_IE',\n",
       "       'Morningstar Rank_3-Star', 'Morningstar Rank_4-Star',\n",
       "       'Morningstar Rank_5-Star'],\n",
       "      dtype='object')"
      ]
     },
     "execution_count": 17,
     "metadata": {},
     "output_type": "execute_result"
    }
   ],
   "source": [
    "data.columns"
   ]
  },
  {
   "cell_type": "code",
   "execution_count": 18,
   "metadata": {
    "collapsed": true
   },
   "outputs": [],
   "source": [
    "data.columns = ['Name', 'NAV', 'AverageReturn',\n",
    "       'ExpenseRatio', 'FundType_FI', 'FundType_IE',\n",
    "       'Star3', 'Star4',\n",
    "       'Star5']"
   ]
  },
  {
   "cell_type": "code",
   "execution_count": 19,
   "metadata": {
    "collapsed": false
   },
   "outputs": [
    {
     "data": {
      "text/html": [
       "<div>\n",
       "<table border=\"1\" class=\"dataframe\">\n",
       "  <thead>\n",
       "    <tr style=\"text-align: right;\">\n",
       "      <th></th>\n",
       "      <th>Name</th>\n",
       "      <th>NAV</th>\n",
       "      <th>AverageReturn</th>\n",
       "      <th>ExpenseRatio</th>\n",
       "      <th>FundType_FI</th>\n",
       "      <th>FundType_IE</th>\n",
       "      <th>Star3</th>\n",
       "      <th>Star4</th>\n",
       "      <th>Star5</th>\n",
       "    </tr>\n",
       "  </thead>\n",
       "  <tbody>\n",
       "    <tr>\n",
       "      <th>0</th>\n",
       "      <td>Amer Cent Inc &amp; Growth Inv</td>\n",
       "      <td>28.88</td>\n",
       "      <td>12.39</td>\n",
       "      <td>0.67</td>\n",
       "      <td>0</td>\n",
       "      <td>0</td>\n",
       "      <td>0</td>\n",
       "      <td>0</td>\n",
       "      <td>0</td>\n",
       "    </tr>\n",
       "    <tr>\n",
       "      <th>1</th>\n",
       "      <td>American Century Intl. Disc</td>\n",
       "      <td>14.37</td>\n",
       "      <td>30.53</td>\n",
       "      <td>1.41</td>\n",
       "      <td>0</td>\n",
       "      <td>1</td>\n",
       "      <td>1</td>\n",
       "      <td>0</td>\n",
       "      <td>0</td>\n",
       "    </tr>\n",
       "    <tr>\n",
       "      <th>2</th>\n",
       "      <td>American Century Tax-Free Bond</td>\n",
       "      <td>10.73</td>\n",
       "      <td>3.34</td>\n",
       "      <td>0.49</td>\n",
       "      <td>1</td>\n",
       "      <td>0</td>\n",
       "      <td>0</td>\n",
       "      <td>1</td>\n",
       "      <td>0</td>\n",
       "    </tr>\n",
       "    <tr>\n",
       "      <th>3</th>\n",
       "      <td>American Century Ultra</td>\n",
       "      <td>24.94</td>\n",
       "      <td>10.88</td>\n",
       "      <td>0.99</td>\n",
       "      <td>0</td>\n",
       "      <td>0</td>\n",
       "      <td>1</td>\n",
       "      <td>0</td>\n",
       "      <td>0</td>\n",
       "    </tr>\n",
       "    <tr>\n",
       "      <th>4</th>\n",
       "      <td>Ariel</td>\n",
       "      <td>46.39</td>\n",
       "      <td>11.32</td>\n",
       "      <td>1.03</td>\n",
       "      <td>0</td>\n",
       "      <td>0</td>\n",
       "      <td>0</td>\n",
       "      <td>0</td>\n",
       "      <td>0</td>\n",
       "    </tr>\n",
       "  </tbody>\n",
       "</table>\n",
       "</div>"
      ],
      "text/plain": [
       "                             Name    NAV  AverageReturn  ExpenseRatio  \\\n",
       "0      Amer Cent Inc & Growth Inv  28.88          12.39          0.67   \n",
       "1     American Century Intl. Disc  14.37          30.53          1.41   \n",
       "2  American Century Tax-Free Bond  10.73           3.34          0.49   \n",
       "3          American Century Ultra  24.94          10.88          0.99   \n",
       "4                           Ariel  46.39          11.32          1.03   \n",
       "\n",
       "   FundType_FI  FundType_IE  Star3  Star4  Star5  \n",
       "0            0            0      0      0      0  \n",
       "1            0            1      1      0      0  \n",
       "2            1            0      0      1      0  \n",
       "3            0            0      1      0      0  \n",
       "4            0            0      0      0      0  "
      ]
     },
     "execution_count": 19,
     "metadata": {},
     "output_type": "execute_result"
    }
   ],
   "source": [
    "data.head()"
   ]
  },
  {
   "cell_type": "markdown",
   "metadata": {},
   "source": [
    "## Split for test and train"
   ]
  },
  {
   "cell_type": "code",
   "execution_count": 20,
   "metadata": {
    "collapsed": false
   },
   "outputs": [],
   "source": [
    "from sklearn.model_selection import train_test_split\n",
    "data_train, data_test = train_test_split(data, test_size=0.2)"
   ]
  },
  {
   "cell_type": "markdown",
   "metadata": {},
   "source": [
    "## Perform Regression"
   ]
  },
  {
   "cell_type": "code",
   "execution_count": 21,
   "metadata": {
    "collapsed": false
   },
   "outputs": [],
   "source": [
    "import statsmodels.formula.api as smf\n",
    "\n",
    "model = smf.ols(formula='AverageReturn ~ NAV + ExpenseRatio +  FundType_FI + FundType_IE  + Star3 + Star4 + Star5', data=data).fit() "
   ]
  },
  {
   "cell_type": "code",
   "execution_count": 22,
   "metadata": {
    "collapsed": false
   },
   "outputs": [
    {
     "data": {
      "text/html": [
       "<table class=\"simpletable\">\n",
       "<caption>OLS Regression Results</caption>\n",
       "<tr>\n",
       "  <th>Dep. Variable:</th>      <td>AverageReturn</td>  <th>  R-squared:         </th> <td>   0.727</td>\n",
       "</tr>\n",
       "<tr>\n",
       "  <th>Model:</th>                   <td>OLS</td>       <th>  Adj. R-squared:    </th> <td>   0.676</td>\n",
       "</tr>\n",
       "<tr>\n",
       "  <th>Method:</th>             <td>Least Squares</td>  <th>  F-statistic:       </th> <td>   14.09</td>\n",
       "</tr>\n",
       "<tr>\n",
       "  <th>Date:</th>             <td>Mon, 31 Jul 2017</td> <th>  Prob (F-statistic):</th> <td>9.57e-09</td>\n",
       "</tr>\n",
       "<tr>\n",
       "  <th>Time:</th>                 <td>16:41:02</td>     <th>  Log-Likelihood:    </th> <td> -132.02</td>\n",
       "</tr>\n",
       "<tr>\n",
       "  <th>No. Observations:</th>      <td>    45</td>      <th>  AIC:               </th> <td>   280.0</td>\n",
       "</tr>\n",
       "<tr>\n",
       "  <th>Df Residuals:</th>          <td>    37</td>      <th>  BIC:               </th> <td>   294.5</td>\n",
       "</tr>\n",
       "<tr>\n",
       "  <th>Df Model:</th>              <td>     7</td>      <th>                     </th>     <td> </td>   \n",
       "</tr>\n",
       "<tr>\n",
       "  <th>Covariance Type:</th>      <td>nonrobust</td>    <th>                     </th>     <td> </td>   \n",
       "</tr>\n",
       "</table>\n",
       "<table class=\"simpletable\">\n",
       "<tr>\n",
       "        <td></td>          <th>coef</th>     <th>std err</th>      <th>t</th>      <th>P>|t|</th> <th>[95.0% Conf. Int.]</th> \n",
       "</tr>\n",
       "<tr>\n",
       "  <th>Intercept</th>    <td>    1.2704</td> <td>    4.520</td> <td>    0.281</td> <td> 0.780</td> <td>   -7.889    10.430</td>\n",
       "</tr>\n",
       "<tr>\n",
       "  <th>NAV</th>          <td>    0.0555</td> <td>    0.071</td> <td>    0.783</td> <td> 0.438</td> <td>   -0.088     0.199</td>\n",
       "</tr>\n",
       "<tr>\n",
       "  <th>ExpenseRatio</th> <td>    5.4909</td> <td>    2.600</td> <td>    2.112</td> <td> 0.041</td> <td>    0.223    10.758</td>\n",
       "</tr>\n",
       "<tr>\n",
       "  <th>FundType_FI</th>  <td>   -7.1560</td> <td>    2.629</td> <td>   -2.722</td> <td> 0.010</td> <td>  -12.482    -1.830</td>\n",
       "</tr>\n",
       "<tr>\n",
       "  <th>FundType_IE</th>  <td>   11.1677</td> <td>    2.060</td> <td>    5.421</td> <td> 0.000</td> <td>    6.994    15.341</td>\n",
       "</tr>\n",
       "<tr>\n",
       "  <th>Star3</th>        <td>    6.8611</td> <td>    3.081</td> <td>    2.227</td> <td> 0.032</td> <td>    0.618    13.105</td>\n",
       "</tr>\n",
       "<tr>\n",
       "  <th>Star4</th>        <td>    8.6350</td> <td>    2.907</td> <td>    2.971</td> <td> 0.005</td> <td>    2.745    14.525</td>\n",
       "</tr>\n",
       "<tr>\n",
       "  <th>Star5</th>        <td>    6.9853</td> <td>    3.192</td> <td>    2.188</td> <td> 0.035</td> <td>    0.517    13.453</td>\n",
       "</tr>\n",
       "</table>\n",
       "<table class=\"simpletable\">\n",
       "<tr>\n",
       "  <th>Omnibus:</th>       <td>32.473</td> <th>  Durbin-Watson:     </th> <td>   1.601</td>\n",
       "</tr>\n",
       "<tr>\n",
       "  <th>Prob(Omnibus):</th> <td> 0.000</td> <th>  Jarque-Bera (JB):  </th> <td> 110.202</td>\n",
       "</tr>\n",
       "<tr>\n",
       "  <th>Skew:</th>          <td> 1.707</td> <th>  Prob(JB):          </th> <td>1.17e-24</td>\n",
       "</tr>\n",
       "<tr>\n",
       "  <th>Kurtosis:</th>      <td> 9.864</td> <th>  Cond. No.          </th> <td>    257.</td>\n",
       "</tr>\n",
       "</table>"
      ],
      "text/plain": [
       "<class 'statsmodels.iolib.summary.Summary'>\n",
       "\"\"\"\n",
       "                            OLS Regression Results                            \n",
       "==============================================================================\n",
       "Dep. Variable:          AverageReturn   R-squared:                       0.727\n",
       "Model:                            OLS   Adj. R-squared:                  0.676\n",
       "Method:                 Least Squares   F-statistic:                     14.09\n",
       "Date:                Mon, 31 Jul 2017   Prob (F-statistic):           9.57e-09\n",
       "Time:                        16:41:02   Log-Likelihood:                -132.02\n",
       "No. Observations:                  45   AIC:                             280.0\n",
       "Df Residuals:                      37   BIC:                             294.5\n",
       "Df Model:                           7                                         \n",
       "Covariance Type:            nonrobust                                         \n",
       "================================================================================\n",
       "                   coef    std err          t      P>|t|      [95.0% Conf. Int.]\n",
       "--------------------------------------------------------------------------------\n",
       "Intercept        1.2704      4.520      0.281      0.780        -7.889    10.430\n",
       "NAV              0.0555      0.071      0.783      0.438        -0.088     0.199\n",
       "ExpenseRatio     5.4909      2.600      2.112      0.041         0.223    10.758\n",
       "FundType_FI     -7.1560      2.629     -2.722      0.010       -12.482    -1.830\n",
       "FundType_IE     11.1677      2.060      5.421      0.000         6.994    15.341\n",
       "Star3            6.8611      3.081      2.227      0.032         0.618    13.105\n",
       "Star4            8.6350      2.907      2.971      0.005         2.745    14.525\n",
       "Star5            6.9853      3.192      2.188      0.035         0.517    13.453\n",
       "==============================================================================\n",
       "Omnibus:                       32.473   Durbin-Watson:                   1.601\n",
       "Prob(Omnibus):                  0.000   Jarque-Bera (JB):              110.202\n",
       "Skew:                           1.707   Prob(JB):                     1.17e-24\n",
       "Kurtosis:                       9.864   Cond. No.                         257.\n",
       "==============================================================================\n",
       "\n",
       "Warnings:\n",
       "[1] Standard Errors assume that the covariance matrix of the errors is correctly specified.\n",
       "\"\"\""
      ]
     },
     "execution_count": 22,
     "metadata": {},
     "output_type": "execute_result"
    }
   ],
   "source": [
    "model.summary()"
   ]
  },
  {
   "cell_type": "markdown",
   "metadata": {},
   "source": [
    "## Predict Values and plot residual"
   ]
  },
  {
   "cell_type": "code",
   "execution_count": 75,
   "metadata": {
    "collapsed": false
   },
   "outputs": [],
   "source": [
    "data['predicted'] = model.predict(data)"
   ]
  },
  {
   "cell_type": "code",
   "execution_count": 80,
   "metadata": {
    "collapsed": true
   },
   "outputs": [],
   "source": [
    "data['residual'] = data['AverageReturn'] -data['predicted'] "
   ]
  },
  {
   "cell_type": "code",
   "execution_count": 77,
   "metadata": {
    "collapsed": false
   },
   "outputs": [
    {
     "data": {
      "text/plain": [
       "0     -5.838266\n",
       "1     -2.691274\n",
       "2      2.695336\n",
       "3      4.071352\n",
       "4     -1.820006\n",
       "5      2.519006\n",
       "6     -0.120354\n",
       "7      1.490189\n",
       "8     -0.274738\n",
       "9      2.627012\n",
       "10    -2.669341\n",
       "11     0.732850\n",
       "12    -5.440877\n",
       "13     1.549551\n",
       "14    -2.715654\n",
       "15    -0.790938\n",
       "16    -0.141413\n",
       "17     5.239813\n",
       "18     2.048560\n",
       "19     1.163625\n",
       "20     0.791413\n",
       "21     0.357471\n",
       "22     3.436776\n",
       "23     2.855723\n",
       "24     2.053312\n",
       "25     7.892473\n",
       "26     0.918492\n",
       "27    -0.159851\n",
       "28     1.256454\n",
       "29    -5.485526\n",
       "30     2.276707\n",
       "31    -0.234201\n",
       "32    -5.138225\n",
       "33    -4.849318\n",
       "34   -20.228109\n",
       "35    -1.365632\n",
       "36    10.270550\n",
       "37     3.501249\n",
       "38     0.741277\n",
       "39    -0.557257\n",
       "40     2.483068\n",
       "41    -1.421855\n",
       "42     0.354084\n",
       "43    -5.807855\n",
       "44     4.424348\n",
       "Name: residual, dtype: float64"
      ]
     },
     "execution_count": 77,
     "metadata": {},
     "output_type": "execute_result"
    }
   ],
   "source": [
    "data.residual"
   ]
  },
  {
   "cell_type": "code",
   "execution_count": 79,
   "metadata": {
    "collapsed": false
   },
   "outputs": [
    {
     "data": {
      "text/plain": [
       "<seaborn.axisgrid.JointGrid at 0x115322438>"
      ]
     },
     "execution_count": 79,
     "metadata": {},
     "output_type": "execute_result"
    },
    {
     "data": {
      "image/png": "[encoded data removed]",
      "text/plain": [
       "<matplotlib.figure.Figure at 0x115322828>"
      ]
     },
     "metadata": {},
     "output_type": "display_data"
    }
   ],
   "source": [
    "sns.jointplot(data['AverageReturn'], data['residual'])"
   ]
  },
  {
   "cell_type": "markdown",
   "metadata": {},
   "source": [
    "## Compute MAPE"
   ]
  },
  {
   "cell_type": "code",
   "execution_count": 81,
   "metadata": {
    "collapsed": true
   },
   "outputs": [],
   "source": [
    "data['mape'] = data['residual'] / data['AverageReturn']"
   ]
  },
  {
   "cell_type": "code",
   "execution_count": 82,
   "metadata": {
    "collapsed": true
   },
   "outputs": [],
   "source": [
    "data['mape'] = data['mape'] * 100.00"
   ]
  },
  {
   "cell_type": "code",
   "execution_count": 84,
   "metadata": {
    "collapsed": false
   },
   "outputs": [],
   "source": [
    "data['mape'] = data['mape'].abs()"
   ]
  },
  {
   "cell_type": "code",
   "execution_count": 85,
   "metadata": {
    "collapsed": true
   },
   "outputs": [],
   "source": [
    "mape = data['mape'].sum()"
   ]
  },
  {
   "cell_type": "code",
   "execution_count": 86,
   "metadata": {
    "collapsed": false
   },
   "outputs": [
    {
     "data": {
      "text/plain": [
       "945.7689232151308"
      ]
     },
     "execution_count": 86,
     "metadata": {},
     "output_type": "execute_result"
    }
   ],
   "source": [
    "mape"
   ]
  },
  {
   "cell_type": "markdown",
   "metadata": {},
   "source": [
    "## The End"
   ]
  }
 ],
 "metadata": {
  "kernelspec": {
   "display_name": "Python [default]",
   "language": "python",
   "name": "python3"
  },
  "language_info": {
   "codemirror_mode": {
    "name": "ipython",
    "version": 3
   },
   "file_extension": ".py",
   "mimetype": "text/x-python",
   "name": "python",
   "nbconvert_exporter": "python",
   "pygments_lexer": "ipython3",
   "version": "3.6.0"
  }
 },
 "nbformat": 4,
 "nbformat_minor": 2
}
