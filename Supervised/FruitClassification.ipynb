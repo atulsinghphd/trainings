{
 "cells": [
  {
   "cell_type": "markdown",
   "metadata": {},
   "source": [
    "# Fruit classification with decision trees\n",
    "\n",
    "[Source](http://dataaspirant.com/2017/04/21/visualize-decision-tree-python-graphviz/)"
   ]
  },
  {
   "cell_type": "code",
   "execution_count": 15,
   "metadata": {
    "collapsed": true
   },
   "outputs": [],
   "source": [
    "import pandas as pd\n",
    "import numpy as np\n",
    "from sklearn import tree"
   ]
  },
  {
   "cell_type": "markdown",
   "metadata": {},
   "source": [
    "# Generate artificial data"
   ]
  },
  {
   "cell_type": "code",
   "execution_count": 16,
   "metadata": {
    "collapsed": false
   },
   "outputs": [],
   "source": [
    "fruit_data_set = pd.DataFrame()\n",
    "fruit_data_set[\"fruit\"] = np.array([1, 1, 1, 1, 1,      # 1 for apple\n",
    "                                    0, 0, 0, 0, 0])     # 0 for orange\n",
    "fruit_data_set[\"weight\"] = np.array([170, 175, 180, 178, 182,\n",
    "                                     130, 120, 130, 138, 145])\n",
    "fruit_data_set[\"smooth\"] = np.array([9, 10, 8, 8, 7,\n",
    "                                     3, 4, 2, 5, 6])"
   ]
  },
  {
   "cell_type": "code",
   "execution_count": 17,
   "metadata": {
    "collapsed": false
   },
   "outputs": [
    {
     "data": {
      "text/html": [
       "<div>\n",
       "<table border=\"1\" class=\"dataframe\">\n",
       "  <thead>\n",
       "    <tr style=\"text-align: right;\">\n",
       "      <th></th>\n",
       "      <th>fruit</th>\n",
       "      <th>weight</th>\n",
       "      <th>smooth</th>\n",
       "    </tr>\n",
       "  </thead>\n",
       "  <tbody>\n",
       "    <tr>\n",
       "      <th>0</th>\n",
       "      <td>1</td>\n",
       "      <td>170</td>\n",
       "      <td>9</td>\n",
       "    </tr>\n",
       "    <tr>\n",
       "      <th>1</th>\n",
       "      <td>1</td>\n",
       "      <td>175</td>\n",
       "      <td>10</td>\n",
       "    </tr>\n",
       "    <tr>\n",
       "      <th>2</th>\n",
       "      <td>1</td>\n",
       "      <td>180</td>\n",
       "      <td>8</td>\n",
       "    </tr>\n",
       "    <tr>\n",
       "      <th>3</th>\n",
       "      <td>1</td>\n",
       "      <td>178</td>\n",
       "      <td>8</td>\n",
       "    </tr>\n",
       "    <tr>\n",
       "      <th>4</th>\n",
       "      <td>1</td>\n",
       "      <td>182</td>\n",
       "      <td>7</td>\n",
       "    </tr>\n",
       "  </tbody>\n",
       "</table>\n",
       "</div>"
      ],
      "text/plain": [
       "   fruit  weight  smooth\n",
       "0      1     170       9\n",
       "1      1     175      10\n",
       "2      1     180       8\n",
       "3      1     178       8\n",
       "4      1     182       7"
      ]
     },
     "execution_count": 17,
     "metadata": {},
     "output_type": "execute_result"
    }
   ],
   "source": [
    "fruit_data_set.head()"
   ]
  },
  {
   "cell_type": "markdown",
   "metadata": {},
   "source": [
    "# Train the classifier"
   ]
  },
  {
   "cell_type": "code",
   "execution_count": 18,
   "metadata": {
    "collapsed": false
   },
   "outputs": [
    {
     "data": {
      "text/plain": [
       "DecisionTreeClassifier(class_weight=None, criterion='gini', max_depth=None,\n",
       "            max_features=None, max_leaf_nodes=None,\n",
       "            min_impurity_split=1e-07, min_samples_leaf=1,\n",
       "            min_samples_split=2, min_weight_fraction_leaf=0.0,\n",
       "            presort=False, random_state=None, splitter='best')"
      ]
     },
     "execution_count": 18,
     "metadata": {},
     "output_type": "execute_result"
    }
   ],
   "source": [
    "fruit_classifier = tree.DecisionTreeClassifier()\n",
    "fruit_classifier.fit(fruit_data_set[[\"weight\", \"smooth\"]], fruit_data_set[\"fruit\"])"
   ]
  },
  {
   "cell_type": "markdown",
   "metadata": {},
   "source": [
    "# Test the classifier"
   ]
  },
  {
   "cell_type": "code",
   "execution_count": 19,
   "metadata": {
    "collapsed": false
   },
   "outputs": [
    {
     "name": "stdout",
     "output_type": "stream",
     "text": [
      "Actual fruit type: 1 , Fruit classifier predicted: [1]\n",
      "Actual fruit type: 1 , Fruit classifier predicted: [1]\n",
      "Actual fruit type: 0 , Fruit classifier predicted: [0]\n"
     ]
    }
   ],
   "source": [
    "# fruit data set 1st observation\n",
    "test_features_1 = [[fruit_data_set[\"weight\"][0], fruit_data_set[\"smooth\"][0]]]\n",
    "test_features_1_fruit = fruit_classifier.predict(test_features_1)\n",
    "print(\"Actual fruit type: {act_fruit} , Fruit classifier predicted: {predicted_fruit}\".format(\n",
    "    act_fruit=fruit_data_set[\"fruit\"][0], predicted_fruit=test_features_1_fruit))\n",
    "\n",
    "# fruit data set 3rd observation\n",
    "test_features_3 = [[fruit_data_set[\"weight\"][2], fruit_data_set[\"smooth\"][2]]]\n",
    "test_features_3_fruit = fruit_classifier.predict(test_features_3)\n",
    "print (\"Actual fruit type: {act_fruit} , Fruit classifier predicted: {predicted_fruit}\".format(\n",
    "    act_fruit=fruit_data_set[\"fruit\"][2], predicted_fruit=test_features_3_fruit))\n",
    "\n",
    "# fruit data set 8th observation\n",
    "test_features_8 = [[fruit_data_set[\"weight\"][7], fruit_data_set[\"smooth\"][7]]]\n",
    "test_features_8_fruit = fruit_classifier.predict(test_features_8)\n",
    "print(\"Actual fruit type: {act_fruit} , Fruit classifier predicted: {predicted_fruit}\".format(\n",
    "    act_fruit=fruit_data_set[\"fruit\"][7], predicted_fruit=test_features_8_fruit))"
   ]
  },
  {
   "cell_type": "markdown",
   "metadata": {},
   "source": [
    "# Plot the tree"
   ]
  },
  {
   "cell_type": "markdown",
   "metadata": {},
   "source": [
    "![](tree.png)"
   ]
  },
  {
   "cell_type": "markdown",
   "metadata": {},
   "source": [
    "# The End"
   ]
  }
 ],
 "metadata": {
  "kernelspec": {
   "display_name": "Python [default]",
   "language": "python",
   "name": "python3"
  },
  "language_info": {
   "codemirror_mode": {
    "name": "ipython",
    "version": 3
   },
   "file_extension": ".py",
   "mimetype": "text/x-python",
   "name": "python",
   "nbconvert_exporter": "python",
   "pygments_lexer": "ipython3",
   "version": "3.6.0"
  }
 },
 "nbformat": 4,
 "nbformat_minor": 2
}
